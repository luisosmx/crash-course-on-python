{
  "nbformat": 4,
  "nbformat_minor": 0,
  "metadata": {
    "colab": {
      "provenance": [],
      "authorship_tag": "ABX9TyPpJE6O62iOSHfPDaTPWz3l",
      "include_colab_link": true
    },
    "kernelspec": {
      "name": "python3",
      "display_name": "Python 3"
    },
    "language_info": {
      "name": "python"
    }
  },
  "cells": [
    {
      "cell_type": "markdown",
      "metadata": {
        "id": "view-in-github",
        "colab_type": "text"
      },
      "source": [
        "<a href=\"https://colab.research.google.com/github/luisosmx/crash-course-on-python/blob/main/Quiz_lists.ipynb\" target=\"_parent\"><img src=\"https://colab.research.google.com/assets/colab-badge.svg\" alt=\"Open In Colab\"/></a>"
      ]
    },
    {
      "cell_type": "markdown",
      "source": [
        "Given a list of filenames, we want to rename all the files with extension hpp to the extension h. To do this, we would like to generate a new list called newfilenames, consisting of the new filenames. Fill in the blanks in the code using any of the methods you’ve learned thus far, like a for loop or a list comprehension.\n",
        "\n"
      ],
      "metadata": {
        "id": "a9FJWWa1Za2A"
      }
    },
    {
      "cell_type": "code",
      "source": [
        "filenames = [\"program.c\", \"stdio.hpp\", \"sample.hpp\", \"a.out\", \"math.hpp\", \"hpp.out\"]\n",
        "# Generate newfilenames as a list containing the new filenames\n",
        "# using as many lines of code as your chosen method requires.\n",
        "___  \n",
        "\n",
        "print(newfilenames) \n",
        "# Should be [\"program.c\", \"stdio.h\", \"sample.h\", \"a.out\", \"math.h\", \"hpp.out\"]"
      ],
      "metadata": {
        "id": "yn5n8uPmZiqo"
      },
      "execution_count": null,
      "outputs": []
    },
    {
      "cell_type": "code",
      "source": [
        "filenames = [\"program.c\", \"stdio.hpp\", \"sample.hpp\", \"a.out\", \"math.hpp\", \"hpp.out\"]\n",
        "# Generate newfilenames as a list containing the new filenames\n",
        "# using as many lines of code as your chosen method requires.\n",
        "newfilenames= [file.replace('.hpp','.h') for file in filenames]  \n",
        "\n",
        "\n",
        "print(newfilenames) \n",
        "# Should be [\"program.c\", \"stdio.h\", \"sample.h\", \"a.out\", \"math.h\", \"hpp.out\"]"
      ],
      "metadata": {
        "colab": {
          "base_uri": "https://localhost:8080/"
        },
        "id": "EgK4WHZ3Z3kY",
        "outputId": "cbc28f4e-451c-4d97-cb73-0e5485dee0c5"
      },
      "execution_count": 1,
      "outputs": [
        {
          "output_type": "stream",
          "name": "stdout",
          "text": [
            "['program.c', 'stdio.h', 'sample.h', 'a.out', 'math.h', 'hpp.out']\n"
          ]
        }
      ]
    },
    {
      "cell_type": "markdown",
      "source": [
        "Let's create a function that turns text into pig latin: a simple text transformation that modifies each word moving the first character to the end and appending \"ay\" to the end. For example, python ends up as ythonpay.\n",
        "\n"
      ],
      "metadata": {
        "id": "6rWfYz-1amZg"
      }
    },
    {
      "cell_type": "code",
      "source": [
        "def pig_latin(text):\n",
        "  say = \"\"\n",
        "  # Separate the text into words\n",
        "  words = ___\n",
        "  for word in words:\n",
        "    # Create the pig latin word and add it to the list\n",
        "    ___\n",
        "    # Turn the list back into a phrase\n",
        "  return ___\n",
        "\t\t\n",
        "print(pig_latin(\"hello how are you\")) # Should be \"ellohay owhay reaay ouyay\"\n",
        "print(pig_latin(\"programming in python is fun\")) # Should be \"rogrammingpay niay ythonpay siay unfay\""
      ],
      "metadata": {
        "id": "zSPRb3l9awh4"
      },
      "execution_count": null,
      "outputs": []
    },
    {
      "cell_type": "code",
      "source": [
        "def pig_latin(text):\n",
        "  say = \"\"\n",
        "  # Separate the text into words\n",
        "  words = text.split()\n",
        "  for word in words:\n",
        "    # Create the pig latin word and add it to the list\n",
        "    word=word [1 : len (word)] + word [0] + \"ay\"\n",
        "    # Turn the list back into a phrase\n",
        "    say = say + word + \"\"\n",
        "  return say\n",
        "\t\t\n",
        "print(pig_latin(\"hello how are you\")) # Should be \"ellohay owhay reaay ouyay\"\n",
        "print(pig_latin(\"programming in python is fun\")) # Should be \"rogrammingpay niay ythonpay siay unfay\""
      ],
      "metadata": {
        "colab": {
          "base_uri": "https://localhost:8080/"
        },
        "id": "gq_4wFFBaoTH",
        "outputId": "2e899e5f-640c-423b-a6d4-ceecaf70b24e"
      },
      "execution_count": 2,
      "outputs": [
        {
          "output_type": "stream",
          "name": "stdout",
          "text": [
            "ellohayowhayreaayouyay\n",
            "rogrammingpayniayythonpaysiayunfay\n"
          ]
        }
      ]
    },
    {
      "cell_type": "markdown",
      "source": [
        "The permissions of a file in a Linux system are split into three sets of three permissions: read, write, and execute for the owner, group, and others. Each of the three values can be expressed as an octal number summing each permission, with 4 corresponding to read, 2 to write, and 1 to execute. Or it can be written with a string using the letters r, w, and x or - when the permission is not granted.\n",
        " For example: \n",
        " 640 is read/write for the owner, read for the group, and no permissions for the others; converted to a string, it would be: \"rw-r-----\"\n",
        " 755 is read/write/execute for the owner, and read/execute for group and others; converted to a string, it would be: \"rwxr-xr-x\"\n",
        " Fill in the blanks to make the code convert a permission in octal format into a string format.\n",
        " \n",
        "\n"
      ],
      "metadata": {
        "id": "rGfIxMQFbGcc"
      }
    },
    {
      "cell_type": "code",
      "source": [
        "def octal_to_string(octal):\n",
        "    result = \"\"\n",
        "    value_letters = [(4,\"r\"),(2,\"w\"),(1,\"x\")]\n",
        "    # Iterate over each of the digits in octal\n",
        "    for ___ in [int(n) for n in str(octal)]:\n",
        "        # Check for each of the permissions values\n",
        "        for value, letter in value_letters:\n",
        "            if ___ >= value:\n",
        "                result += ___\n",
        "                ___ -= value\n",
        "            else:\n",
        "                ___\n",
        "    return result\n",
        "    \n",
        "print(octal_to_string(755)) # Should be rwxr-xr-x\n",
        "print(octal_to_string(644)) # Should be rw-r--r--\n",
        "print(octal_to_string(750)) # Should be rwxr-x---\n",
        "print(octal_to_string(600)) # Should be rw-------"
      ],
      "metadata": {
        "id": "qm4TmDj6bH0h"
      },
      "execution_count": null,
      "outputs": []
    },
    {
      "cell_type": "code",
      "source": [
        "def octal_to_string(octal):\n",
        "    result = \"\"\n",
        "    value_letters = [(4,\"r\"),(2,\"w\"),(1,\"x\")]\n",
        "    # Iterate over each of the digits in octal\n",
        "    for digit in [int(n) for n in str(octal)]:\n",
        "        # Check for each of the permissions values\n",
        "        for value, letter in value_letters:\n",
        "            if digit >= value:\n",
        "                result += letter\n",
        "                digit -= value\n",
        "            else:\n",
        "                result += \"-\"\n",
        "    return result\n",
        "    \n",
        "print(octal_to_string(755)) # Should be rwxr-xr-x\n",
        "print(octal_to_string(644)) # Should be rw-r--r--\n",
        "print(octal_to_string(750)) # Should be rwxr-x---\n",
        "print(octal_to_string(600)) # Should be rw-------"
      ],
      "metadata": {
        "colab": {
          "base_uri": "https://localhost:8080/"
        },
        "id": "lpESsu64bOPv",
        "outputId": "d2f83fb9-a0e1-4f1c-bbf4-abe0ce0dd388"
      },
      "execution_count": 3,
      "outputs": [
        {
          "output_type": "stream",
          "name": "stdout",
          "text": [
            "rwxr-xr-x\n",
            "rw-r--r--\n",
            "rwxr-x---\n",
            "rw-------\n"
          ]
        }
      ]
    }
  ]
}