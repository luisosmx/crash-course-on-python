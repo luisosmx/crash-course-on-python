{
  "nbformat": 4,
  "nbformat_minor": 0,
  "metadata": {
    "colab": {
      "provenance": [],
      "authorship_tag": "ABX9TyPeuffdeLiM2CZnKlREZ3WU",
      "include_colab_link": true
    },
    "kernelspec": {
      "name": "python3",
      "display_name": "Python 3"
    },
    "language_info": {
      "name": "python"
    }
  },
  "cells": [
    {
      "cell_type": "markdown",
      "metadata": {
        "id": "view-in-github",
        "colab_type": "text"
      },
      "source": [
        "<a href=\"https://colab.research.google.com/github/luisosmx/crash-course-on-python/blob/main/Module_4.ipynb\" target=\"_parent\"><img src=\"https://colab.research.google.com/assets/colab-badge.svg\" alt=\"Open In Colab\"/></a>"
      ]
    },
    {
      "cell_type": "markdown",
      "source": [
        "Modify the double_word function so that it returns the same word repeated twice, followed by the length of the new doubled word. For example, double_word(\"hello\") should return hellohello10."
      ],
      "metadata": {
        "id": "Xedn9OX-Tsql"
      }
    },
    {
      "cell_type": "code",
      "source": [
        "def double_word(word):\n",
        "    return\n",
        "\n",
        "print(double_word(\"hello\")) # Should return hellohello10\n",
        "print(double_word(\"abc\"))   # Should return abcabc6\n",
        "print(double_word(\"\"))      # Should return 0"
      ],
      "metadata": {
        "id": "0aw8cioiUBf4"
      },
      "execution_count": null,
      "outputs": []
    },
    {
      "cell_type": "code",
      "execution_count": 1,
      "metadata": {
        "colab": {
          "base_uri": "https://localhost:8080/"
        },
        "id": "eS6Kt-HjTkr9",
        "outputId": "397dc16c-9f61-4bd5-faa7-6021ccad1bea"
      },
      "outputs": [
        {
          "output_type": "stream",
          "name": "stdout",
          "text": [
            "hellohello10\n",
            "abcabc6\n",
            "0\n"
          ]
        }
      ],
      "source": [
        "def double_word(word):\n",
        "    return word * 2 + str(len(word * 2))\n",
        "\n",
        "print(double_word(\"hello\")) # Should return hellohello10\n",
        "print(double_word(\"abc\"))   # Should return abcabc6\n",
        "print(double_word(\"\"))      # Should return 0"
      ]
    }
  ]
}