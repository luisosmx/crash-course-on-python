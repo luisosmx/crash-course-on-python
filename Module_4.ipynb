{
  "nbformat": 4,
  "nbformat_minor": 0,
  "metadata": {
    "colab": {
      "provenance": [],
      "authorship_tag": "ABX9TyMluPkh1t4o+W+Z9c4Da8dh",
      "include_colab_link": true
    },
    "kernelspec": {
      "name": "python3",
      "display_name": "Python 3"
    },
    "language_info": {
      "name": "python"
    }
  },
  "cells": [
    {
      "cell_type": "markdown",
      "metadata": {
        "id": "view-in-github",
        "colab_type": "text"
      },
      "source": [
        "<a href=\"https://colab.research.google.com/github/luisosmx/crash-course-on-python/blob/main/Module_4.ipynb\" target=\"_parent\"><img src=\"https://colab.research.google.com/assets/colab-badge.svg\" alt=\"Open In Colab\"/></a>"
      ]
    },
    {
      "cell_type": "markdown",
      "source": [
        "Modify the double_word function so that it returns the same word repeated twice, followed by the length of the new doubled word. For example, double_word(\"hello\") should return hellohello10."
      ],
      "metadata": {
        "id": "Xedn9OX-Tsql"
      }
    },
    {
      "cell_type": "code",
      "source": [
        "def double_word(word):\n",
        "    return\n",
        "\n",
        "print(double_word(\"hello\")) # Should return hellohello10\n",
        "print(double_word(\"abc\"))   # Should return abcabc6\n",
        "print(double_word(\"\"))      # Should return 0"
      ],
      "metadata": {
        "id": "0aw8cioiUBf4"
      },
      "execution_count": null,
      "outputs": []
    },
    {
      "cell_type": "code",
      "execution_count": null,
      "metadata": {
        "colab": {
          "base_uri": "https://localhost:8080/"
        },
        "id": "eS6Kt-HjTkr9",
        "outputId": "397dc16c-9f61-4bd5-faa7-6021ccad1bea"
      },
      "outputs": [
        {
          "output_type": "stream",
          "name": "stdout",
          "text": [
            "hellohello10\n",
            "abcabc6\n",
            "0\n"
          ]
        }
      ],
      "source": [
        "def double_word(word):\n",
        "    return word * 2 + str(len(word * 2))\n",
        "\n",
        "print(double_word(\"hello\")) # Should return hellohello10\n",
        "print(double_word(\"abc\"))   # Should return abcabc6\n",
        "print(double_word(\"\"))      # Should return 0"
      ]
    },
    {
      "cell_type": "markdown",
      "source": [
        "Modify the student_grade function using the format method, so that it returns the phrase \"X received Y% on the exam\". For example, student_grade(\"Reed\", 80) should return \"Reed received 80% on the exam\"."
      ],
      "metadata": {
        "id": "moEqR3Vi4mIc"
      }
    },
    {
      "cell_type": "code",
      "source": [
        "def student_grade(name, grade):\n",
        "\treturn \"\"\n",
        "\n",
        "print(student_grade(\"Reed\", 80))\n",
        "print(student_grade(\"Paige\", 92))\n",
        "print(student_grade(\"Jesse\", 85))"
      ],
      "metadata": {
        "id": "paKvfO9x4xD0"
      },
      "execution_count": null,
      "outputs": []
    },
    {
      "cell_type": "code",
      "source": [
        "def student_grade(name, grade):\n",
        "\treturn \"{name} received {grade}% on the exam\".format(name=name,grade=grade)\n",
        "\n",
        "print(student_grade(\"Reed\", 80))\n",
        "print(student_grade(\"Paige\", 92))\n",
        "print(student_grade(\"Jesse\", 85))"
      ],
      "metadata": {
        "colab": {
          "base_uri": "https://localhost:8080/"
        },
        "id": "abnBJben4ne9",
        "outputId": "1f647244-dc1e-4471-b039-e29b434528eb"
      },
      "execution_count": null,
      "outputs": [
        {
          "output_type": "stream",
          "name": "stdout",
          "text": [
            "Reed received 80% on the exam\n",
            "Paige received 92% on the exam\n",
            "Jesse received 85% on the exam\n"
          ]
        }
      ]
    },
    {
      "cell_type": "markdown",
      "source": [
        "The is_palindrome function checks if a string is a palindrome. A palindrome is a string that can be equally read from left to right or right to left, omitting blank spaces, and ignoring capitalization. Examples of palindromes are words like kayak and radar, and phrases like \"Never Odd or Even\". Fill in the blanks in this function to return True if the passed string is a palindrome, False if not."
      ],
      "metadata": {
        "id": "vqZ3qnkR808e"
      }
    },
    {
      "cell_type": "code",
      "source": [
        "def is_palindrome(input_string):\n",
        "\t# We'll create two strings, to compare them\n",
        "\tnew_string = \"\"\n",
        "\treverse_string = \"\"\n",
        "\t# Traverse through each letter of the input string\n",
        "\tfor ___:\n",
        "\t\t# Add any non-blank letters to the \n",
        "\t\t# end of one string, and to the front\n",
        "\t\t# of the other string. \n",
        "\t\tif ___:\n",
        "\t\t\tnew_string = ___\n",
        "\t\t\treverse_string = ___\n",
        "\t# Compare the strings\n",
        "\tif ___:\n",
        "\t\treturn True\n",
        "\treturn False\n",
        "\n",
        "print(is_palindrome(\"Never Odd or Even\")) # Should be True\n",
        "print(is_palindrome(\"abc\")) # Should be False\n",
        "print(is_palindrome(\"kayak\")) # Should be True"
      ],
      "metadata": {
        "id": "2zMcVmhV8-Yl"
      },
      "execution_count": null,
      "outputs": []
    },
    {
      "cell_type": "code",
      "source": [
        "def is_palindrome(input_string):\n",
        "\t# We'll create two strings, to compare them\n",
        "\tnew_string = \"\"\n",
        "\treverse_string = \"\"\n",
        "\t# Traverse through each letter of the input string\n",
        "\tfor message in input_string.lower():\n",
        "\t\t# Add any non-blank letters to the \n",
        "\t\t# end of one string, and to the front\n",
        "\t\t# of the other string. \n",
        "\t\tif message.strip():\n",
        "\t\t\tnew_string = message + new_string\n",
        "\t\t\treverse_string =  reverse_string + message\n",
        "\t# Compare the strings\n",
        "\tif new_string == reverse_string:\n",
        "\t\treturn True\n",
        "\treturn False\n",
        "\n",
        "print(is_palindrome(\"Never Odd or Even\")) # Should be True\n",
        "print(is_palindrome(\"abc\")) # Should be False\n",
        "print(is_palindrome(\"kayak\")) # Should be True"
      ],
      "metadata": {
        "colab": {
          "base_uri": "https://localhost:8080/"
        },
        "id": "1QPDFdvH82G2",
        "outputId": "fc1ad427-a8ef-4180-8e84-6c76182f15a7"
      },
      "execution_count": 1,
      "outputs": [
        {
          "output_type": "stream",
          "name": "stdout",
          "text": [
            "True\n",
            "False\n",
            "True\n"
          ]
        }
      ]
    }
  ]
}