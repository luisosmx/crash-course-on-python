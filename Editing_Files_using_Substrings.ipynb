{
  "nbformat": 4,
  "nbformat_minor": 0,
  "metadata": {
    "colab": {
      "provenance": [],
      "authorship_tag": "ABX9TyPtRGg0H6PKrTNrtbI7ukzw",
      "include_colab_link": true
    },
    "kernelspec": {
      "name": "python3",
      "display_name": "Python 3"
    },
    "language_info": {
      "name": "python"
    }
  },
  "cells": [
    {
      "cell_type": "markdown",
      "metadata": {
        "id": "view-in-github",
        "colab_type": "text"
      },
      "source": [
        "<a href=\"https://colab.research.google.com/github/luisosmx/crash-course-on-python/blob/main/Editing_Files_using_Substrings.ipynb\" target=\"_parent\"><img src=\"https://colab.research.google.com/assets/colab-badge.svg\" alt=\"Open In Colab\"/></a>"
      ]
    },
    {
      "cell_type": "markdown",
      "source": [
        "#findJane.sh"
      ],
      "metadata": {
        "id": "bPmFnBCjWMTb"
      }
    },
    {
      "cell_type": "code",
      "execution_count": null,
      "metadata": {
        "id": "XuxGKRBvV6qC"
      },
      "outputs": [],
      "source": [
        "#!/bin/bash\n",
        "\n",
        "> oldFiles.txt\n",
        "\n",
        "files=$(grep \" jane \" ../data/list.txt | cut -d ' ' -f 3);\n",
        "\n",
        "for file in $files; do\n",
        "    if test -e \"..${file}\"; then echo \"..${file}\" >> oldFiles.txt; fi\n",
        "done"
      ]
    },
    {
      "cell_type": "markdown",
      "source": [
        "#changeJane.py"
      ],
      "metadata": {
        "id": "viGZcamDWULn"
      }
    },
    {
      "cell_type": "code",
      "source": [
        "#!/usr/bin/env python3\n",
        "\n",
        "import sys\n",
        "import subprocess\n",
        "\n",
        "with open(sys.argv[1]) as file:\n",
        "    lines = file.readlines()\n",
        "    for line in lines:\n",
        "        oldvalue = line.strip()\n",
        "        newvalue = oldvalue.replace(\"jane\", \"jdoe\")\n",
        "        subprocess.run([\"mv\", oldvalue, newvalue])\n",
        "file.close()"
      ],
      "metadata": {
        "id": "n1cIOjnKWZU5"
      },
      "execution_count": null,
      "outputs": []
    }
  ]
}