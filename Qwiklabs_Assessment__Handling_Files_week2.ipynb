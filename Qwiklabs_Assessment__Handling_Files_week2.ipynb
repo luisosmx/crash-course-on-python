{
  "nbformat": 4,
  "nbformat_minor": 0,
  "metadata": {
    "colab": {
      "provenance": [],
      "authorship_tag": "ABX9TyO8XwF8nwWGb3mWpNidcqst",
      "include_colab_link": true
    },
    "kernelspec": {
      "name": "python3",
      "display_name": "Python 3"
    },
    "language_info": {
      "name": "python"
    }
  },
  "cells": [
    {
      "cell_type": "markdown",
      "metadata": {
        "id": "view-in-github",
        "colab_type": "text"
      },
      "source": [
        "<a href=\"https://colab.research.google.com/github/luisosmx/crash-course-on-python/blob/main/Qwiklabs_Assessment__Handling_Files_week2.ipynb\" target=\"_parent\"><img src=\"https://colab.research.google.com/assets/colab-badge.svg\" alt=\"Open In Colab\"/></a>"
      ]
    },
    {
      "cell_type": "code",
      "execution_count": null,
      "metadata": {
        "id": "Mg03P4cZRA3n"
      },
      "outputs": [],
      "source": [
        "!#usr/bin/env python3\n",
        "\n",
        "import csv\n",
        "\n",
        "def read_employees(csv_file_location):\n",
        "  csv.register_dialect('empDialect', skipinitialspace=True, strict=True)\n",
        "  employee_file = csv.DictReader(open(csv_file_location), dialect = 'empDialect')\n",
        "  employee_list = []\n",
        "  for data in employee_file:\n",
        "    employee_list.append(data)\n",
        "  return employee_list\n",
        "employee_list = read_employees('/home/student-02-4c714cf9ae9c/data/employees.csv')\n",
        "print(employee_list)\n",
        "\n",
        "def process_data(employee_list):\n",
        "  department_list = []\n",
        "  for employee_data in employee_list:\n",
        "    department_list.append(employee_data['Department'])\n",
        "  department_data = {}\n",
        "  for department_name in set(department_list):\n",
        "    department_data[department_name] = department_list.count(department_name)\n",
        "  return department_data\n",
        "\n",
        "dictionary = process_data(employee_list)\n",
        "print(dictionary)\n",
        "\n",
        "def write_report(dictionary, report_file):\n",
        "  with open(report_file, \"w+\") as f:\n",
        "    for k in sorted(dictionary):\n",
        "      f.write(str(k)+':'+str(dictionary[k])+'\\n')\n",
        "    f.close()\n",
        "write_report(dictionary, '/home/student-02-4c714cf9ae9c/data/report.txt'\n",
        "\n"
      ]
    }
  ]
}