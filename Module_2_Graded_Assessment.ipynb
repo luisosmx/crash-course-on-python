{
  "nbformat": 4,
  "nbformat_minor": 0,
  "metadata": {
    "colab": {
      "provenance": [],
      "authorship_tag": "ABX9TyPt/PAyst2qBnsdE2Qxl4rs",
      "include_colab_link": true
    },
    "kernelspec": {
      "name": "python3",
      "display_name": "Python 3"
    },
    "language_info": {
      "name": "python"
    }
  },
  "cells": [
    {
      "cell_type": "markdown",
      "metadata": {
        "id": "view-in-github",
        "colab_type": "text"
      },
      "source": [
        "<a href=\"https://colab.research.google.com/github/luisosmx/crash-course-on-python/blob/main/Module_2_Graded_Assessment.ipynb\" target=\"_parent\"><img src=\"https://colab.research.google.com/assets/colab-badge.svg\" alt=\"Open In Colab\"/></a>"
      ]
    },
    {
      "cell_type": "markdown",
      "source": [
        "Complete the function by filling in the missing parts. The color_translator function receives the name of a color, then prints its hexadecimal value. Currently, it only supports the three additive primary colors (red, green, blue), so it returns \"unknown\" for all other colors."
      ],
      "metadata": {
        "id": "ozjpiKSZOkK0"
      }
    },
    {
      "cell_type": "code",
      "source": [
        "def color_translator(color):\n",
        "\tif color == \"red\":\n",
        "\t\thex_color = \"#ff0000\"\n",
        "\telif color == \"green\":\n",
        "\t\thex_color = \"#00ff00\"\n",
        "\telif color == \"blue\":\n",
        "\t\thex_color = \"#0000ff\"\n",
        "\telse:\n",
        "\t\thex_color = \"unknown\"\n",
        "\treturn hex_color\n",
        "\n",
        "print(color_translator(\"blue\")) # Should be #0000ff\n",
        "print(color_translator(\"yellow\")) # Should be unknown\n",
        "print(color_translator(\"red\")) # Should be #ff0000\n",
        "print(color_translator(\"black\")) # Should be unknown\n",
        "print(color_translator(\"green\")) # Should be #00ff00\n",
        "print(color_translator(\"\")) # Should be unknown"
      ],
      "metadata": {
        "colab": {
          "base_uri": "https://localhost:8080/"
        },
        "id": "86RkZZC-Or5W",
        "outputId": "b0f8dc3b-7f4c-4271-ae54-1cc01c6faf03"
      },
      "execution_count": 1,
      "outputs": [
        {
          "output_type": "stream",
          "name": "stdout",
          "text": [
            "#0000ff\n",
            "unknown\n",
            "#ff0000\n",
            "unknown\n",
            "#00ff00\n",
            "unknown\n"
          ]
        }
      ]
    },
    {
      "cell_type": "markdown",
      "source": [
        "Students in a class receive their grades as Pass/Fail. Scores of 60 or more (out of 100) mean that the grade is \"Pass\". For lower scores, the grade is \"Fail\". In addition, scores above 95 (not included) are graded as \"Top Score\". Fill in this function so that it returns the proper grade."
      ],
      "metadata": {
        "id": "nzXY79N_SywT"
      }
    },
    {
      "cell_type": "code",
      "source": [
        "def exam_grade(score):\n",
        "\tif score > 95 :\n",
        "\t\tgrade = \"Top Score\"\n",
        "\telif score > 55 :\n",
        "\t\tgrade = \"Pass\"\n",
        "\telse:\n",
        "\t\tgrade = \"Fail\"\n",
        "\treturn grade\n",
        "\n",
        "print(exam_grade(65)) # Should be Pass\n",
        "print(exam_grade(55)) # Should be Fail\n",
        "print(exam_grade(60)) # Should be Pass\n",
        "print(exam_grade(95)) # Should be Pass\n",
        "print(exam_grade(100)) # Should be Top Score\n",
        "print(exam_grade(0)) # Should be Fail"
      ],
      "metadata": {
        "colab": {
          "base_uri": "https://localhost:8080/"
        },
        "id": "9yoobDLlS0ik",
        "outputId": "ba678da4-e8d8-4257-8d29-1a060fb482c0"
      },
      "execution_count": 2,
      "outputs": [
        {
          "output_type": "stream",
          "name": "stdout",
          "text": [
            "Pass\n",
            "Fail\n",
            "Pass\n",
            "Pass\n",
            "Top Score\n",
            "Fail\n"
          ]
        }
      ]
    },
    {
      "cell_type": "code",
      "source": [
        "def format_name(first_name, last_name):\n",
        "\tif first_name != \"\" and last_name != \"\":\n",
        "\t    return \"Name: \" + last_name + \", \" + first_name\n",
        "\tif first_name == \"\" and last_name != \"\":\n",
        "\t    return \"Name: \" + last_name\t\n",
        "\tif first_name != \"\" and last_name == \"\":\n",
        "\t    return \"Name: \" + first_name\t\n",
        "\tif first_name == \"\" and last_name == \"\":\n",
        "\t    return \"\"\n",
        "\n",
        "print(format_name(\"Ernest\", \"Hemingway\"))\n",
        "print(format_name(\"\", \"Madonna\"))\n",
        "# Should return the string \"Name: Madonna\"\n",
        "print(format_name(\"Voltaire\", \"\"))\n",
        "# Should return the string \"Name: Voltaire\"\n",
        "print(format_name(\"\", \"\"))\n",
        "# Should return an empty string\n",
        "print(type(format_name(\"Ernest\", \"Hemingway\")))\n",
        "# Should return the string \"Name: Hemingway, Ernest\""
      ],
      "metadata": {
        "colab": {
          "base_uri": "https://localhost:8080/"
        },
        "id": "Z975J6N2a_gT",
        "outputId": "5d5b8ae1-fc6d-4e49-d5f4-e343db5ddcd6"
      },
      "execution_count": 22,
      "outputs": [
        {
          "output_type": "stream",
          "name": "stdout",
          "text": [
            "Name: Hemingway, Ernest\n",
            "Name: Madonna\n",
            "Name: Voltaire\n",
            "\n",
            "<class 'str'>\n"
          ]
        }
      ]
    },
    {
      "cell_type": "code",
      "source": [],
      "metadata": {
        "id": "w055IFQkdyx0"
      },
      "execution_count": null,
      "outputs": []
    }
  ]
}