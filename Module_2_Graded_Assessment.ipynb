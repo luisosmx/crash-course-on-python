{
  "nbformat": 4,
  "nbformat_minor": 0,
  "metadata": {
    "colab": {
      "provenance": [],
      "authorship_tag": "ABX9TyP53ml08SFyIAGmoxXWc2np",
      "include_colab_link": true
    },
    "kernelspec": {
      "name": "python3",
      "display_name": "Python 3"
    },
    "language_info": {
      "name": "python"
    }
  },
  "cells": [
    {
      "cell_type": "markdown",
      "metadata": {
        "id": "view-in-github",
        "colab_type": "text"
      },
      "source": [
        "<a href=\"https://colab.research.google.com/github/luisosmx/crash-course-on-python/blob/main/Module_2_Graded_Assessment.ipynb\" target=\"_parent\"><img src=\"https://colab.research.google.com/assets/colab-badge.svg\" alt=\"Open In Colab\"/></a>"
      ]
    },
    {
      "cell_type": "markdown",
      "source": [
        "Complete the function by filling in the missing parts. The color_translator function receives the name of a color, then prints its hexadecimal value. Currently, it only supports the three additive primary colors (red, green, blue), so it returns \"unknown\" for all other colors."
      ],
      "metadata": {
        "id": "ozjpiKSZOkK0"
      }
    },
    {
      "cell_type": "code",
      "source": [
        "def color_translator(color):\n",
        "\tif color == \"red\":\n",
        "\t\thex_color = \"#ff0000\"\n",
        "\telif color == \"green\":\n",
        "\t\thex_color = \"#00ff00\"\n",
        "\telif color == \"blue\":\n",
        "\t\thex_color = \"#0000ff\"\n",
        "\telse:\n",
        "\t\thex_color = \"unknown\"\n",
        "\treturn hex_color\n",
        "\n",
        "print(color_translator(\"blue\")) # Should be #0000ff\n",
        "print(color_translator(\"yellow\")) # Should be unknown\n",
        "print(color_translator(\"red\")) # Should be #ff0000\n",
        "print(color_translator(\"black\")) # Should be unknown\n",
        "print(color_translator(\"green\")) # Should be #00ff00\n",
        "print(color_translator(\"\")) # Should be unknown"
      ],
      "metadata": {
        "colab": {
          "base_uri": "https://localhost:8080/"
        },
        "id": "86RkZZC-Or5W",
        "outputId": "b0f8dc3b-7f4c-4271-ae54-1cc01c6faf03"
      },
      "execution_count": 1,
      "outputs": [
        {
          "output_type": "stream",
          "name": "stdout",
          "text": [
            "#0000ff\n",
            "unknown\n",
            "#ff0000\n",
            "unknown\n",
            "#00ff00\n",
            "unknown\n"
          ]
        }
      ]
    }
  ]
}