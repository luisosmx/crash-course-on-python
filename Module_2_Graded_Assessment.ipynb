{
  "nbformat": 4,
  "nbformat_minor": 0,
  "metadata": {
    "colab": {
      "provenance": [],
      "toc_visible": true,
      "authorship_tag": "ABX9TyMqVIFzQQj6Q4NRbCnda/gD",
      "include_colab_link": true
    },
    "kernelspec": {
      "name": "python3",
      "display_name": "Python 3"
    },
    "language_info": {
      "name": "python"
    }
  },
  "cells": [
    {
      "cell_type": "markdown",
      "metadata": {
        "id": "view-in-github",
        "colab_type": "text"
      },
      "source": [
        "<a href=\"https://colab.research.google.com/github/luisosmx/crash-course-on-python/blob/main/Module_2_Graded_Assessment.ipynb\" target=\"_parent\"><img src=\"https://colab.research.google.com/assets/colab-badge.svg\" alt=\"Open In Colab\"/></a>"
      ]
    },
    {
      "cell_type": "markdown",
      "source": [
        "Complete the function by filling in the missing parts. The color_translator function receives the name of a color, then prints its hexadecimal value. Currently, it only supports the three additive primary colors (red, green, blue), so it returns \"unknown\" for all other colors."
      ],
      "metadata": {
        "id": "ozjpiKSZOkK0"
      }
    },
    {
      "cell_type": "code",
      "source": [
        "def color_translator(color):\n",
        "\tif ___ == \"red\":\n",
        "\t\thex_color = \"#ff0000\"\n",
        "\telif ___ == \"green\":\n",
        "\t\thex_color = \"#00ff00\"\n",
        "\telif ___ == \"blue\":\n",
        "\t\thex_color = \"#0000ff\"\n",
        "\t___:\n",
        "\t\thex_color = \"unknown\"\n",
        "\treturn ___\n",
        "\n",
        "print(color_translator(\"blue\")) # Should be #0000ff\n",
        "print(color_translator(\"yellow\")) # Should be unknown\n",
        "print(color_translator(\"red\")) # Should be #ff0000\n",
        "print(color_translator(\"black\")) # Should be unknown\n",
        "print(color_translator(\"green\")) # Should be #00ff00\n",
        "print(color_translator(\"\")) # Should be unknown"
      ],
      "metadata": {
        "id": "e7GdFwU1SuTA"
      },
      "execution_count": null,
      "outputs": []
    },
    {
      "cell_type": "code",
      "source": [
        "def color_translator(color):\n",
        "\tif color == \"red\":\n",
        "\t\thex_color = \"#ff0000\"\n",
        "\telif color == \"green\":\n",
        "\t\thex_color = \"#00ff00\"\n",
        "\telif color == \"blue\":\n",
        "\t\thex_color = \"#0000ff\"\n",
        "\telse:\n",
        "\t\thex_color = \"unknown\"\n",
        "\treturn hex_color\n",
        "\n",
        "print(color_translator(\"blue\")) # Should be #0000ff\n",
        "print(color_translator(\"yellow\")) # Should be unknown\n",
        "print(color_translator(\"red\")) # Should be #ff0000\n",
        "print(color_translator(\"black\")) # Should be unknown\n",
        "print(color_translator(\"green\")) # Should be #00ff00\n",
        "print(color_translator(\"\")) # Should be unknown"
      ],
      "metadata": {
        "colab": {
          "base_uri": "https://localhost:8080/"
        },
        "id": "86RkZZC-Or5W",
        "outputId": "b0f8dc3b-7f4c-4271-ae54-1cc01c6faf03"
      },
      "execution_count": null,
      "outputs": [
        {
          "output_type": "stream",
          "name": "stdout",
          "text": [
            "#0000ff\n",
            "unknown\n",
            "#ff0000\n",
            "unknown\n",
            "#00ff00\n",
            "unknown\n"
          ]
        }
      ]
    },
    {
      "cell_type": "markdown",
      "source": [
        "Students in a class receive their grades as Pass/Fail. Scores of 60 or more (out of 100) mean that the grade is \"Pass\". For lower scores, the grade is \"Fail\". In addition, scores above 95 (not included) are graded as \"Top Score\". Fill in this function so that it returns the proper grade."
      ],
      "metadata": {
        "id": "nzXY79N_SywT"
      }
    },
    {
      "cell_type": "code",
      "source": [
        "def exam_grade(score):\n",
        "\tif ___:\n",
        "\t\tgrade = \"Top Score\"\n",
        "\telif ___:\n",
        "\t\tgrade = \"Pass\"\n",
        "\telse:\n",
        "\t\tgrade = \"Fail\"\n",
        "\treturn grade\n",
        "\n",
        "print(exam_grade(65)) # Should be Pass\n",
        "print(exam_grade(55)) # Should be Fail\n",
        "print(exam_grade(60)) # Should be Pass\n",
        "print(exam_grade(95)) # Should be Pass\n",
        "print(exam_grade(100)) # Should be Top Score\n",
        "print(exam_grade(0)) # Should be Fail"
      ],
      "metadata": {
        "id": "_vDPx1E6TGLE"
      },
      "execution_count": null,
      "outputs": []
    },
    {
      "cell_type": "code",
      "source": [
        "def exam_grade(score):\n",
        "\tif score > 95 :\n",
        "\t\tgrade = \"Top Score\"\n",
        "\telif score > 55 :\n",
        "\t\tgrade = \"Pass\"\n",
        "\telse:\n",
        "\t\tgrade = \"Fail\"\n",
        "\treturn grade\n",
        "\n",
        "print(exam_grade(65)) # Should be Pass\n",
        "print(exam_grade(55)) # Should be Fail\n",
        "print(exam_grade(60)) # Should be Pass\n",
        "print(exam_grade(95)) # Should be Pass\n",
        "print(exam_grade(100)) # Should be Top Score\n",
        "print(exam_grade(0)) # Should be Fail"
      ],
      "metadata": {
        "colab": {
          "base_uri": "https://localhost:8080/"
        },
        "id": "9yoobDLlS0ik",
        "outputId": "ba678da4-e8d8-4257-8d29-1a060fb482c0"
      },
      "execution_count": null,
      "outputs": [
        {
          "output_type": "stream",
          "name": "stdout",
          "text": [
            "Pass\n",
            "Fail\n",
            "Pass\n",
            "Pass\n",
            "Top Score\n",
            "Fail\n"
          ]
        }
      ]
    },
    {
      "cell_type": "markdown",
      "source": [
        "Complete the body of the format_name function. This function receives the first_name and last_name parameters and then returns a properly formatted string.\n",
        "\n",
        "Specifically:\n",
        "\n",
        "If both the last_name and the first_name parameters are supplied, the function should return like so:\n",
        "print(format_name(\"Ella\", \"Fitzgerald\"))\n",
        "Name: Fitzgerald, Ella\n",
        "If only one name parameter is supplied (either the first name or the last name) , the function should return like so:\n",
        "print(format_name(\"Adele\", \"\"))\n",
        "Name: Adele\n",
        "or\n",
        "print(format_name(\"\", \"Einstein\"))\n",
        "Name: Einstein\n",
        "Finally, if both names are blank, the function should return the empty string:\n",
        "print(format_name(\"\", \"\"))\n",
        "\n"
      ],
      "metadata": {
        "id": "cykZn0WWTZEM"
      }
    },
    {
      "cell_type": "code",
      "source": [
        "def format_name(first_name, last_name):\n",
        "\t# code goes here\n",
        "\t\n",
        "\treturn string \n",
        "\n",
        "print(format_name(\"Ernest\", \"Hemingway\"))\n",
        "# Should return the string \"Name: Hemingway, Ernest\"\n",
        "\n",
        "print(format_name(\"\", \"Madonna\"))\n",
        "# Should return the string \"Name: Madonna\"\n",
        "\n",
        "print(format_name(\"Voltaire\", \"\"))\n",
        "# Should return the string \"Name: Voltaire\"\n",
        "\n",
        "print(format_name(\"\", \"\"))\n",
        "# Should return an empty string"
      ],
      "metadata": {
        "id": "nFK87XVKT3C0"
      },
      "execution_count": null,
      "outputs": []
    },
    {
      "cell_type": "code",
      "source": [
        "def format_name(first_name, last_name):\n",
        "\tif first_name != \"\" and last_name != \"\":\n",
        "\t    return \"Name: \" + last_name + \", \" + first_name\n",
        "\tif first_name == \"\" and last_name != \"\":\n",
        "\t    return \"Name: \" + last_name\t\n",
        "\tif first_name != \"\" and last_name == \"\":\n",
        "\t    return \"Name: \" + first_name\t\n",
        "\tif first_name == \"\" and last_name == \"\":\n",
        "\t    return \"\"\n",
        "\n",
        "print(format_name(\"Ernest\", \"Hemingway\"))\n",
        "print(format_name(\"\", \"Madonna\"))\n",
        "# Should return the string \"Name: Madonna\"\n",
        "print(format_name(\"Voltaire\", \"\"))\n",
        "# Should return the string \"Name: Voltaire\"\n",
        "print(format_name(\"\", \"\"))\n",
        "# Should return an empty string\n",
        "print(type(format_name(\"Ernest\", \"Hemingway\")))\n",
        "# Should return the string \"Name: Hemingway, Ernest\""
      ],
      "metadata": {
        "colab": {
          "base_uri": "https://localhost:8080/"
        },
        "id": "Z975J6N2a_gT",
        "outputId": "5d5b8ae1-fc6d-4e49-d5f4-e343db5ddcd6"
      },
      "execution_count": null,
      "outputs": [
        {
          "output_type": "stream",
          "name": "stdout",
          "text": [
            "Name: Hemingway, Ernest\n",
            "Name: Madonna\n",
            "Name: Voltaire\n",
            "\n",
            "<class 'str'>\n"
          ]
        }
      ]
    },
    {
      "cell_type": "markdown",
      "source": [
        "The fractional_part function divides the numerator by the denominator, and returns just the fractional part (a number between 0 and 1). Complete the body of the function so that it returns the right number.\n",
        "Note: Since division by 0 produces an error, if the denominator is 0, the function should return 0 instead of attempting the division."
      ],
      "metadata": {
        "id": "FL1Oh1ZJzkRg"
      }
    },
    {
      "cell_type": "code",
      "source": [
        "def fractional_part(numerator, denominator):\n",
        "\t# Operate with numerator and denominator to \n",
        "# keep just the fractional part of the quotient\n",
        "\treturn 0\n",
        "\n",
        "print(fractional_part(5, 5)) # Should be 0\n",
        "print(fractional_part(5, 4)) # Should be 0.25\n",
        "print(fractional_part(5, 3)) # Should be 0.66...\n",
        "print(fractional_part(5, 2)) # Should be 0.5\n",
        "print(fractional_part(5, 0)) # Should be 0\n",
        "print(fractional_part(0, 5)) # Should be 0"
      ],
      "metadata": {
        "id": "Kn73_ygEz2zS"
      },
      "execution_count": null,
      "outputs": []
    },
    {
      "cell_type": "code",
      "source": [
        "from math import modf\n",
        "\n",
        "\n",
        "def fractional_part(numerator, denominator):\n",
        "\t# Operate with numerator and denominator to \n",
        "# keep just the fractional part of the quotient\n",
        "  if denominator == 0:\n",
        "    return 0\n",
        "  else: \n",
        "    result = numerator/denominator\n",
        "    print(f\"result:{result}\")\n",
        "    value = modf(result)\n",
        "    print(f\"value:{value}\")\n",
        "    return value[0]\n",
        "\n",
        "print(fractional_part(5, 5)) # Should be 0\n",
        "print(fractional_part(5, 4)) # Should be 0.25\n",
        "print(fractional_part(5, 3)) # Should be 0.66...\n",
        "print(fractional_part(5, 2)) # Should be 0.5\n",
        "print(fractional_part(5, 0)) # Should be 0\n",
        "print(fractional_part(0, 5)) # Should be 0"
      ],
      "metadata": {
        "colab": {
          "base_uri": "https://localhost:8080/"
        },
        "id": "_LBulCEPpivR",
        "outputId": "78ed3fd5-8d82-40d3-e969-4d1dfa5ffa79"
      },
      "execution_count": 21,
      "outputs": [
        {
          "output_type": "stream",
          "name": "stdout",
          "text": [
            "result:1.0\n",
            "value:(0.0, 1.0)\n",
            "0.0\n",
            "result:1.25\n",
            "value:(0.25, 1.0)\n",
            "0.25\n",
            "result:1.6666666666666667\n",
            "value:(0.6666666666666667, 1.0)\n",
            "0.6666666666666667\n",
            "result:2.5\n",
            "value:(0.5, 2.0)\n",
            "0.5\n",
            "0\n",
            "result:0.0\n",
            "value:(0.0, 0.0)\n",
            "0.0\n"
          ]
        }
      ]
    }
  ]
}