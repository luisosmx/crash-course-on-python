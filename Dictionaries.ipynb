{
  "nbformat": 4,
  "nbformat_minor": 0,
  "metadata": {
    "colab": {
      "provenance": [],
      "authorship_tag": "ABX9TyMj1iVn4eAxDrTPNKOAztog",
      "include_colab_link": true
    },
    "kernelspec": {
      "name": "python3",
      "display_name": "Python 3"
    },
    "language_info": {
      "name": "python"
    }
  },
  "cells": [
    {
      "cell_type": "markdown",
      "metadata": {
        "id": "view-in-github",
        "colab_type": "text"
      },
      "source": [
        "<a href=\"https://colab.research.google.com/github/luisosmx/crash-course-on-python/blob/main/Dictionaries.ipynb\" target=\"_parent\"><img src=\"https://colab.research.google.com/assets/colab-badge.svg\" alt=\"Open In Colab\"/></a>"
      ]
    },
    {
      "cell_type": "markdown",
      "source": [
        "Complete the code to iterate through the keys and values of the cool_beasts dictionary. Remember that the items method returns a tuple of key, value for each element in the dictionary."
      ],
      "metadata": {
        "id": "hebiY9mpHqsu"
      }
    },
    {
      "cell_type": "code",
      "source": [
        "cool_beasts = {\"octopuses\":\"tentacles\", \"dolphins\":\"fins\", \"rhinos\":\"horns\"}\n",
        "for ___ in cool_beasts.items():\n",
        "    print(\"{} have {}\".format(___))"
      ],
      "metadata": {
        "id": "BRyuLCxXH_FF"
      },
      "execution_count": null,
      "outputs": []
    },
    {
      "cell_type": "code",
      "execution_count": null,
      "metadata": {
        "colab": {
          "base_uri": "https://localhost:8080/"
        },
        "id": "rAySKxUtHm_e",
        "outputId": "7e114678-e87d-4be3-adbd-6e32419b0bdd"
      },
      "outputs": [
        {
          "output_type": "stream",
          "name": "stdout",
          "text": [
            "octopuses have tentacles\n",
            "dolphins have fins\n",
            "rhinos have horns\n"
          ]
        }
      ],
      "source": [
        "cool_beasts = {\"octopuses\":\"tentacles\", \"dolphins\":\"fins\", \"rhinos\":\"horns\"}\n",
        "for beast, tentacles in cool_beasts.items():\n",
        "    print(\"{} have {}\".format(beast, tentacles))"
      ]
    },
    {
      "cell_type": "markdown",
      "source": [
        "The email_list function receives a dictionary, which contains domain names as keys, and a list of users as values. Fill in the blanks to generate a list that contains complete email addresses (e.g. diana.prince@gmail.com)."
      ],
      "metadata": {
        "id": "GOFibLxuVSVM"
      }
    },
    {
      "cell_type": "code",
      "source": [
        "def email_list(domains):\n",
        "\temails = []\n",
        "\tfor ___:\n",
        "\t  for user in users:\n",
        "\t    emails.___\n",
        "\treturn(emails)\n",
        "\n",
        "print(email_list({\"gmail.com\": [\"clark.kent\", \"diana.prince\", \"peter.parker\"], \"yahoo.com\": [\"barbara.gordon\", \"jean.grey\"], \"hotmail.com\": [\"bruce.wayne\"]}))"
      ],
      "metadata": {
        "id": "vlkNVb8WVprT"
      },
      "execution_count": null,
      "outputs": []
    },
    {
      "cell_type": "code",
      "source": [
        "def email_list(domains):\n",
        "\temails = []\n",
        "\tfor domain, users in domains.items():\n",
        "\t  for user in users:\n",
        "\t    emails.append(user + \"@\" + domain)\n",
        "\treturn(emails)\n",
        "\n",
        "print(email_list({\"gmail.com\": [\"clark.kent\", \"diana.prince\", \"peter.parker\"], \"yahoo.com\": [\"barbara.gordon\", \"jean.grey\"], \"hotmail.com\": [\"bruce.wayne\"]}))"
      ],
      "metadata": {
        "colab": {
          "base_uri": "https://localhost:8080/"
        },
        "id": "Nj9eoABmVdeb",
        "outputId": "bf637fc9-7ce2-4e6d-f50e-cfdf8cd64d22"
      },
      "execution_count": null,
      "outputs": [
        {
          "output_type": "stream",
          "name": "stdout",
          "text": [
            "['clark.kent@gmail.com', 'diana.prince@gmail.com', 'peter.parker@gmail.com', 'barbara.gordon@yahoo.com', 'jean.grey@yahoo.com', 'bruce.wayne@hotmail.com']\n"
          ]
        }
      ]
    },
    {
      "cell_type": "markdown",
      "source": [
        "\n",
        "The groups_per_user function receives a dictionary, which contains group names with the list of users. Users can belong to multiple groups. Fill in the blanks to return a dictionary with the users as keys and a list of their groups as values. "
      ],
      "metadata": {
        "id": "jmCcTua6Q8nK"
      }
    },
    {
      "cell_type": "code",
      "source": [
        "def groups_per_user(group_dictionary):\n",
        "\tuser_groups = {}\n",
        "\t# Go through group_dictionary\n",
        "\tfor ___:\n",
        "\t\t# Now go through the users in the group\n",
        "\t\tfor ___:\n",
        "\t\t\t# Now add the group to the the list of\n",
        "# groups for this user, creating the entry\n",
        "# in the dictionary if necessary\n",
        "\n",
        "\treturn(user_groups)\n",
        "\n",
        "print(groups_per_user({\"local\": [\"admin\", \"userA\"],\n",
        "\t\t\"public\":  [\"admin\", \"userB\"],\n",
        "\t\t\"administrator\": [\"admin\"] }))"
      ],
      "metadata": {
        "id": "rNRIIW-LQ_BD"
      },
      "execution_count": null,
      "outputs": []
    },
    {
      "cell_type": "code",
      "source": [
        "def groups_per_user(group_dictionary):\n",
        "\tuser_groups = {}\n",
        "\t# Go through group_dictionary\n",
        "\tfor group, users in group_dictionary.items():\n",
        "\t\t# Now go through the users in the group\n",
        "\t\tfor user in users:\n",
        "\t\t\t# Now add the group to the the list of\n",
        "# groups for this user, creating the entry\n",
        "# in the dictionary if necessary\n",
        "\t\t\tuser_groups[user] = user_groups.get(user,[]) + [group]\n",
        "\t\t\t\n",
        "\treturn(user_groups)\n",
        "\n",
        "print(groups_per_user({\"local\": [\"admin\", \"userA\"],\n",
        "\t\t\"public\":  [\"admin\", \"userB\"],\n",
        "\t\t\"administrator\": [\"admin\"] }))"
      ],
      "metadata": {
        "colab": {
          "base_uri": "https://localhost:8080/"
        },
        "id": "pJ9OL_70Q7P8",
        "outputId": "f115d41f-3615-4a04-a926-bf52ff1530bb"
      },
      "execution_count": null,
      "outputs": [
        {
          "output_type": "stream",
          "name": "stdout",
          "text": [
            "{'admin': ['local', 'public', 'administrator'], 'userA': ['local'], 'userB': ['public']}\n"
          ]
        }
      ]
    },
    {
      "cell_type": "markdown",
      "source": [
        "Question 3\n",
        "The dict.update method updates one dictionary with the items coming from the other dictionary, so that existing entries are replaced and new entries are added. What is the content of the dictionary “wardrobe“ at the end of the following code?"
      ],
      "metadata": {
        "id": "v-XXfQmKwccb"
      }
    },
    {
      "cell_type": "code",
      "source": [
        "wardrobe = {'shirt': ['red', 'blue', 'white'], 'jeans': ['blue', 'black']}\n",
        "new_items = {'jeans': ['white'], 'scarf': ['yellow'], 'socks': ['black', 'brown']}\n",
        "wardrobe.update(new_items)\n",
        "\n",
        "print(wardrobe)"
      ],
      "metadata": {
        "colab": {
          "base_uri": "https://localhost:8080/"
        },
        "id": "Q6YRUXxKvuui",
        "outputId": "8376590a-e614-4146-849a-c6537201d909"
      },
      "execution_count": 1,
      "outputs": [
        {
          "output_type": "stream",
          "name": "stdout",
          "text": [
            "{'shirt': ['red', 'blue', 'white'], 'jeans': ['white'], 'scarf': ['yellow'], 'socks': ['black', 'brown']}\n"
          ]
        }
      ]
    }
  ]
}