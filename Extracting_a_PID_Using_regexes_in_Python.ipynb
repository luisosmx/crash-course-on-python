{
  "nbformat": 4,
  "nbformat_minor": 0,
  "metadata": {
    "colab": {
      "provenance": [],
      "authorship_tag": "ABX9TyP0Kv7ErS+A5IHtqYSxl1vx",
      "include_colab_link": true
    },
    "kernelspec": {
      "name": "python3",
      "display_name": "Python 3"
    },
    "language_info": {
      "name": "python"
    }
  },
  "cells": [
    {
      "cell_type": "markdown",
      "metadata": {
        "id": "view-in-github",
        "colab_type": "text"
      },
      "source": [
        "<a href=\"https://colab.research.google.com/github/luisosmx/crash-course-on-python/blob/main/Extracting_a_PID_Using_regexes_in_Python.ipynb\" target=\"_parent\"><img src=\"https://colab.research.google.com/assets/colab-badge.svg\" alt=\"Open In Colab\"/></a>"
      ]
    },
    {
      "cell_type": "markdown",
      "source": [
        "Add to the regular expression used in the extract_pid function, to return the uppercase message in parenthesis, after the process id."
      ],
      "metadata": {
        "id": "fM3P8lMbwK1i"
      }
    },
    {
      "cell_type": "code",
      "execution_count": 1,
      "metadata": {
        "colab": {
          "base_uri": "https://localhost:8080/"
        },
        "id": "N7k4Bto1wKIc",
        "outputId": "efa56fca-77de-446a-918b-e2f71fd46798"
      },
      "outputs": [
        {
          "output_type": "stream",
          "name": "stdout",
          "text": [
            "12345 (ERROR)\n",
            "None\n",
            "None\n",
            "67890 (RUNNING)\n"
          ]
        }
      ],
      "source": [
        "import re\n",
        "def extract_pid(log_line):\n",
        "    regex = r\"\\[(\\d+)\\]\\: (\\w+)\"\n",
        "    result = re.search(regex, log_line)\n",
        "    if result is None:\n",
        "        return None\n",
        "    return \"{} ({})\".format(result[1], result[2])\n",
        "\n",
        "print(extract_pid(\"July 31 07:51:48 mycomputer bad_process[12345]: ERROR Performing package upgrade\")) # 12345 (ERROR)\n",
        "print(extract_pid(\"99 elephants in a [cage]\")) # None\n",
        "print(extract_pid(\"A string that also has numbers [34567] but no uppercase message\")) # None\n",
        "print(extract_pid(\"July 31 08:08:08 mycomputer new_process[67890]: RUNNING Performing backup\")) # 67890 (RUNNING)"
      ]
    }
  ]
}