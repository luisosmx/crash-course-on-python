{
  "nbformat": 4,
  "nbformat_minor": 0,
  "metadata": {
    "colab": {
      "provenance": [],
      "include_colab_link": true
    },
    "kernelspec": {
      "name": "python3",
      "display_name": "Python 3"
    },
    "language_info": {
      "name": "python"
    }
  },
  "cells": [
    {
      "cell_type": "markdown",
      "metadata": {
        "id": "view-in-github",
        "colab_type": "text"
      },
      "source": [
        "<a href=\"https://colab.research.google.com/github/luisosmx/crash-course-on-python/blob/main/dev_webscrapper.ipynb\" target=\"_parent\"><img src=\"https://colab.research.google.com/assets/colab-badge.svg\" alt=\"Open In Colab\"/></a>"
      ]
    },
    {
      "cell_type": "markdown",
      "source": [
        "# Introduction\n",
        "This script to downloads the books from this personal website: of https://porn.jules-aubert.info/humble_bundle"
      ],
      "metadata": {
        "id": "41V_Q-PWtvMv"
      }
    },
    {
      "cell_type": "markdown",
      "source": [
        "# Setup\n",
        "In this section, you setup your script, like libraries, resources, links, etc."
      ],
      "metadata": {
        "id": "Zn7llRcyt5Jt"
      }
    },
    {
      "cell_type": "code",
      "source": [
        "import requests\n",
        "from bs4 import BeautifulSoup"
      ],
      "metadata": {
        "id": "cYkiUZxTuItA"
      },
      "execution_count": null,
      "outputs": []
    },
    {
      "cell_type": "markdown",
      "source": [
        "# Single download"
      ],
      "metadata": {
        "id": "kpkathhxuKNb"
      }
    },
    {
      "cell_type": "markdown",
      "source": [
        "## Enter website"
      ],
      "metadata": {
        "id": "vuivKEsVuQXt"
      }
    },
    {
      "cell_type": "code",
      "source": [
        "#variables\n",
        "main_link = 'https://porn.jules-aubert.info/humble_bundle/python_by_oreilly/'\n",
        "try:\n",
        "    # Making a GET request\n",
        "    r = requests.get(main_link)\n",
        "\n",
        "    # Parsing the HTML\n",
        "    #soup = BeautifulSoup(r.content, 'html.parser')\n",
        "\n",
        "    #r = requests.get(main_link + \"advanced_ai_by_morgan_claypool\" + \"/deep_learning_approaches_to_text_production.pdf\")\n",
        "    #print(r.content)\n",
        "    \n",
        "except Exception as e:\n",
        "   print(\"error\")\n",
        "   print(e)"
      ],
      "metadata": {
        "id": "Pyfj41xLumfy"
      },
      "execution_count": null,
      "outputs": []
    },
    {
      "cell_type": "code",
      "source": [
        "r.content"
      ],
      "metadata": {
        "colab": {
          "base_uri": "https://localhost:8080/"
        },
        "id": "ncn5twoXvK6e",
        "outputId": "c1211809-3da1-4e6a-b5fd-1924c20bc267"
      },
      "execution_count": null,
      "outputs": [
        {
          "output_type": "execute_result",
          "data": {
            "text/plain": [
              "b'<!DOCTYPE HTML PUBLIC \"-//W3C//DTD HTML 3.2 Final//EN\">\\n<html>\\n <head>\\n  <title>Index of /humble_bundle/python_by_oreilly</title>\\n </head>\\n <body>\\n<h1>Index of /humble_bundle/python_by_oreilly</h1>\\n<pre><img src=\"/icons/blank.gif\" alt=\"Icon \"> <a href=\"?C=N;O=D\">Name</a>                                        <a href=\"?C=M;O=A\">Last modified</a>      <a href=\"?C=S;O=A\">Size</a>  <a href=\"?C=D;O=A\">Description</a><hr><img src=\"/icons/back.gif\" alt=\"[PARENTDIR]\"> <a href=\"/humble_bundle/\">Parent Directory</a>                                                 -   \\n<img src=\"/icons/layout.gif\" alt=\"[   ]\"> <a href=\"elegant_scipy.pdf\">elegant_scipy.pdf</a>                           2020-05-09 02:10   30M  \\n<img src=\"/icons/layout.gif\" alt=\"[   ]\"> <a href=\"flask_web_development.pdf\">flask_web_development.pdf</a>                   2020-05-09 02:10  5.6M  \\n<img src=\"/icons/layout.gif\" alt=\"[   ]\"> <a href=\"fluent_python.pdf\">fluent_python.pdf</a>                           2020-05-09 02:10   13M  \\n<img src=\"/icons/layout.gif\" alt=\"[   ]\"> <a href=\"introducing_python.pdf\">introducing_python.pdf</a>                      2020-05-09 02:10  7.6M  \\n<img src=\"/icons/layout.gif\" alt=\"[   ]\"> <a href=\"natural_language_processing_with_python.pdf\">natural_language_processing_with_python.pdf</a> 2020-05-09 02:10  5.1M  \\n<img src=\"/icons/layout.gif\" alt=\"[   ]\"> <a href=\"python_data_science_handbook.pdf\">python_data_science_handbook.pdf</a>            2020-05-09 02:10   16M  \\n<img src=\"/icons/layout.gif\" alt=\"[   ]\"> <a href=\"test-driven_development_with_python.pdf\">test-driven_development_with_python.pdf</a>     2020-05-09 02:10   12M  \\n<img src=\"/icons/layout.gif\" alt=\"[   ]\"> <a href=\"the_hitchhiker_s_guide_to_python.pdf\">the_hitchhiker_s_guide_to_python.pdf</a>        2020-05-09 02:10  5.2M  \\n<img src=\"/icons/layout.gif\" alt=\"[   ]\"> <a href=\"think_bayes.pdf\">think_bayes.pdf</a>                             2020-05-09 02:10  7.1M  \\n<img src=\"/icons/layout.gif\" alt=\"[   ]\"> <a href=\"think_python.pdf\">think_python.pdf</a>                            2020-05-09 02:10  4.2M  \\n<img src=\"/icons/layout.gif\" alt=\"[   ]\"> <a href=\"thoughtful_machine_learning_with_python.pdf\">thoughtful_machine_learning_with_python.pdf</a> 2020-05-09 02:10  7.4M  \\n<img src=\"/icons/layout.gif\" alt=\"[   ]\"> <a href=\"twisted_network_programming_essentials.pdf\">twisted_network_programming_essentials.pdf</a>  2020-05-09 02:10  9.3M  \\n<img src=\"/icons/layout.gif\" alt=\"[   ]\"> <a href=\"web_scraping_with_python.pdf\">web_scraping_with_python.pdf</a>                2020-05-09 02:10  6.0M  \\n<hr></pre>\\n</body></html>\\n'"
            ]
          },
          "metadata": {},
          "execution_count": 6
        }
      ]
    },
    {
      "cell_type": "code",
      "source": [
        "r.text"
      ],
      "metadata": {
        "colab": {
          "base_uri": "https://localhost:8080/",
          "height": 140
        },
        "id": "AVZixWe0waOC",
        "outputId": "f83e05c3-a778-4a62-97bd-69c0be0e9963"
      },
      "execution_count": null,
      "outputs": [
        {
          "output_type": "execute_result",
          "data": {
            "text/plain": [
              "'<!DOCTYPE HTML PUBLIC \"-//W3C//DTD HTML 3.2 Final//EN\">\\n<html>\\n <head>\\n  <title>Index of /humble_bundle/python_by_oreilly</title>\\n </head>\\n <body>\\n<h1>Index of /humble_bundle/python_by_oreilly</h1>\\n<pre><img src=\"/icons/blank.gif\" alt=\"Icon \"> <a href=\"?C=N;O=D\">Name</a>                                        <a href=\"?C=M;O=A\">Last modified</a>      <a href=\"?C=S;O=A\">Size</a>  <a href=\"?C=D;O=A\">Description</a><hr><img src=\"/icons/back.gif\" alt=\"[PARENTDIR]\"> <a href=\"/humble_bundle/\">Parent Directory</a>                                                 -   \\n<img src=\"/icons/layout.gif\" alt=\"[   ]\"> <a href=\"elegant_scipy.pdf\">elegant_scipy.pdf</a>                           2020-05-09 02:10   30M  \\n<img src=\"/icons/layout.gif\" alt=\"[   ]\"> <a href=\"flask_web_development.pdf\">flask_web_development.pdf</a>                   2020-05-09 02:10  5.6M  \\n<img src=\"/icons/layout.gif\" alt=\"[   ]\"> <a href=\"fluent_python.pdf\">fluent_python.pdf</a>                           2020-05-09 02:10   13M  \\n<img src=\"/icons/layout.gif\" alt=\"[   ]\"> <a href=\"introducing_python.pdf\">introducing_python.pdf</a>                      2020-05-09 02:10  7.6M  \\n<img src=\"/icons/layout.gif\" alt=\"[   ]\"> <a href=\"natural_language_processing_with_python.pdf\">natural_language_processing_with_python.pdf</a> 2020-05-09 02:10  5.1M  \\n<img src=\"/icons/layout.gif\" alt=\"[   ]\"> <a href=\"python_data_science_handbook.pdf\">python_data_science_handbook.pdf</a>            2020-05-09 02:10   16M  \\n<img src=\"/icons/layout.gif\" alt=\"[   ]\"> <a href=\"test-driven_development_with_python.pdf\">test-driven_development_with_python.pdf</a>     2020-05-09 02:10   12M  \\n<img src=\"/icons/layout.gif\" alt=\"[   ]\"> <a href=\"the_hitchhiker_s_guide_to_python.pdf\">the_hitchhiker_s_guide_to_python.pdf</a>        2020-05-09 02:10  5.2M  \\n<img src=\"/icons/layout.gif\" alt=\"[   ]\"> <a href=\"think_bayes.pdf\">think_bayes.pdf</a>                             2020-05-09 02:10  7.1M  \\n<img src=\"/icons/layout.gif\" alt=\"[   ]\"> <a href=\"think_python.pdf\">think_python.pdf</a>                            2020-05-09 02:10  4.2M  \\n<img src=\"/icons/layout.gif\" alt=\"[   ]\"> <a href=\"thoughtful_machine_learning_with_python.pdf\">thoughtful_machine_learning_with_python.pdf</a> 2020-05-09 02:10  7.4M  \\n<img src=\"/icons/layout.gif\" alt=\"[   ]\"> <a href=\"twisted_network_programming_essentials.pdf\">twisted_network_programming_essentials.pdf</a>  2020-05-09 02:10  9.3M  \\n<img src=\"/icons/layout.gif\" alt=\"[   ]\"> <a href=\"web_scraping_with_python.pdf\">web_scraping_with_python.pdf</a>                2020-05-09 02:10  6.0M  \\n<hr></pre>\\n</body></html>\\n'"
            ],
            "application/vnd.google.colaboratory.intrinsic+json": {
              "type": "string"
            }
          },
          "metadata": {},
          "execution_count": 9
        }
      ]
    },
    {
      "cell_type": "markdown",
      "source": [
        "## Get list of download links"
      ],
      "metadata": {
        "id": "e7_x4La7uf5Y"
      }
    },
    {
      "cell_type": "code",
      "source": [
        "# Parse text obtained\n",
        "soup = BeautifulSoup(r.text, 'html.parser')"
      ],
      "metadata": {
        "id": "-_QlBVoGvigO"
      },
      "execution_count": null,
      "outputs": []
    },
    {
      "cell_type": "code",
      "source": [
        "soup"
      ],
      "metadata": {
        "colab": {
          "base_uri": "https://localhost:8080/"
        },
        "id": "OIWKCe0HwF71",
        "outputId": "3195bd5d-ee97-4b27-adea-91c8d2e1b1d8"
      },
      "execution_count": null,
      "outputs": [
        {
          "output_type": "execute_result",
          "data": {
            "text/plain": [
              "<!DOCTYPE HTML PUBLIC \"-//W3C//DTD HTML 3.2 Final//EN\">\n",
              "\n",
              "<html>\n",
              "<head>\n",
              "<title>Index of /humble_bundle/python_by_oreilly</title>\n",
              "</head>\n",
              "<body>\n",
              "<h1>Index of /humble_bundle/python_by_oreilly</h1>\n",
              "<pre><img alt=\"Icon \" src=\"/icons/blank.gif\"/> <a href=\"?C=N;O=D\">Name</a>                                        <a href=\"?C=M;O=A\">Last modified</a>      <a href=\"?C=S;O=A\">Size</a>  <a href=\"?C=D;O=A\">Description</a><hr/><img alt=\"[PARENTDIR]\" src=\"/icons/back.gif\"/> <a href=\"/humble_bundle/\">Parent Directory</a>                                                 -   \n",
              "<img alt=\"[   ]\" src=\"/icons/layout.gif\"/> <a href=\"elegant_scipy.pdf\">elegant_scipy.pdf</a>                           2020-05-09 02:10   30M  \n",
              "<img alt=\"[   ]\" src=\"/icons/layout.gif\"/> <a href=\"flask_web_development.pdf\">flask_web_development.pdf</a>                   2020-05-09 02:10  5.6M  \n",
              "<img alt=\"[   ]\" src=\"/icons/layout.gif\"/> <a href=\"fluent_python.pdf\">fluent_python.pdf</a>                           2020-05-09 02:10   13M  \n",
              "<img alt=\"[   ]\" src=\"/icons/layout.gif\"/> <a href=\"introducing_python.pdf\">introducing_python.pdf</a>                      2020-05-09 02:10  7.6M  \n",
              "<img alt=\"[   ]\" src=\"/icons/layout.gif\"/> <a href=\"natural_language_processing_with_python.pdf\">natural_language_processing_with_python.pdf</a> 2020-05-09 02:10  5.1M  \n",
              "<img alt=\"[   ]\" src=\"/icons/layout.gif\"/> <a href=\"python_data_science_handbook.pdf\">python_data_science_handbook.pdf</a>            2020-05-09 02:10   16M  \n",
              "<img alt=\"[   ]\" src=\"/icons/layout.gif\"/> <a href=\"test-driven_development_with_python.pdf\">test-driven_development_with_python.pdf</a>     2020-05-09 02:10   12M  \n",
              "<img alt=\"[   ]\" src=\"/icons/layout.gif\"/> <a href=\"the_hitchhiker_s_guide_to_python.pdf\">the_hitchhiker_s_guide_to_python.pdf</a>        2020-05-09 02:10  5.2M  \n",
              "<img alt=\"[   ]\" src=\"/icons/layout.gif\"/> <a href=\"think_bayes.pdf\">think_bayes.pdf</a>                             2020-05-09 02:10  7.1M  \n",
              "<img alt=\"[   ]\" src=\"/icons/layout.gif\"/> <a href=\"think_python.pdf\">think_python.pdf</a>                            2020-05-09 02:10  4.2M  \n",
              "<img alt=\"[   ]\" src=\"/icons/layout.gif\"/> <a href=\"thoughtful_machine_learning_with_python.pdf\">thoughtful_machine_learning_with_python.pdf</a> 2020-05-09 02:10  7.4M  \n",
              "<img alt=\"[   ]\" src=\"/icons/layout.gif\"/> <a href=\"twisted_network_programming_essentials.pdf\">twisted_network_programming_essentials.pdf</a>  2020-05-09 02:10  9.3M  \n",
              "<img alt=\"[   ]\" src=\"/icons/layout.gif\"/> <a href=\"web_scraping_with_python.pdf\">web_scraping_with_python.pdf</a>                2020-05-09 02:10  6.0M  \n",
              "<hr/></pre>\n",
              "</body></html>"
            ]
          },
          "metadata": {},
          "execution_count": 8
        }
      ]
    },
    {
      "cell_type": "code",
      "source": [
        "# Find all hyperlinks present on webpage\n",
        "links = soup.find_all('a')\n",
        "print(links)"
      ],
      "metadata": {
        "colab": {
          "base_uri": "https://localhost:8080/"
        },
        "id": "wjJE483zxT-_",
        "outputId": "ec2265e4-5e83-4bd9-f897-55558f2d7dc3"
      },
      "execution_count": null,
      "outputs": [
        {
          "output_type": "stream",
          "name": "stdout",
          "text": [
            "[<a href=\"?C=N;O=D\">Name</a>, <a href=\"?C=M;O=A\">Last modified</a>, <a href=\"?C=S;O=A\">Size</a>, <a href=\"?C=D;O=A\">Description</a>, <a href=\"/humble_bundle/\">Parent Directory</a>, <a href=\"elegant_scipy.pdf\">elegant_scipy.pdf</a>, <a href=\"flask_web_development.pdf\">flask_web_development.pdf</a>, <a href=\"fluent_python.pdf\">fluent_python.pdf</a>, <a href=\"introducing_python.pdf\">introducing_python.pdf</a>, <a href=\"natural_language_processing_with_python.pdf\">natural_language_processing_with_python.pdf</a>, <a href=\"python_data_science_handbook.pdf\">python_data_science_handbook.pdf</a>, <a href=\"test-driven_development_with_python.pdf\">test-driven_development_with_python.pdf</a>, <a href=\"the_hitchhiker_s_guide_to_python.pdf\">the_hitchhiker_s_guide_to_python.pdf</a>, <a href=\"think_bayes.pdf\">think_bayes.pdf</a>, <a href=\"think_python.pdf\">think_python.pdf</a>, <a href=\"thoughtful_machine_learning_with_python.pdf\">thoughtful_machine_learning_with_python.pdf</a>, <a href=\"twisted_network_programming_essentials.pdf\">twisted_network_programming_essentials.pdf</a>, <a href=\"web_scraping_with_python.pdf\">web_scraping_with_python.pdf</a>]\n"
          ]
        }
      ]
    },
    {
      "cell_type": "code",
      "source": [
        "for link in links:\n",
        "  print(link)"
      ],
      "metadata": {
        "colab": {
          "base_uri": "https://localhost:8080/"
        },
        "id": "pmMIg6oWyn18",
        "outputId": "36a564c2-fdb1-4dab-f6fc-c1971d4711a9"
      },
      "execution_count": null,
      "outputs": [
        {
          "output_type": "stream",
          "name": "stdout",
          "text": [
            "<a href=\"?C=N;O=D\">Name</a>\n",
            "<a href=\"?C=M;O=A\">Last modified</a>\n",
            "<a href=\"?C=S;O=A\">Size</a>\n",
            "<a href=\"?C=D;O=A\">Description</a>\n",
            "<a href=\"/humble_bundle/\">Parent Directory</a>\n",
            "<a href=\"elegant_scipy.pdf\">elegant_scipy.pdf</a>\n",
            "<a href=\"flask_web_development.pdf\">flask_web_development.pdf</a>\n",
            "<a href=\"fluent_python.pdf\">fluent_python.pdf</a>\n",
            "<a href=\"introducing_python.pdf\">introducing_python.pdf</a>\n",
            "<a href=\"natural_language_processing_with_python.pdf\">natural_language_processing_with_python.pdf</a>\n",
            "<a href=\"python_data_science_handbook.pdf\">python_data_science_handbook.pdf</a>\n",
            "<a href=\"test-driven_development_with_python.pdf\">test-driven_development_with_python.pdf</a>\n",
            "<a href=\"the_hitchhiker_s_guide_to_python.pdf\">the_hitchhiker_s_guide_to_python.pdf</a>\n",
            "<a href=\"think_bayes.pdf\">think_bayes.pdf</a>\n",
            "<a href=\"think_python.pdf\">think_python.pdf</a>\n",
            "<a href=\"thoughtful_machine_learning_with_python.pdf\">thoughtful_machine_learning_with_python.pdf</a>\n",
            "<a href=\"twisted_network_programming_essentials.pdf\">twisted_network_programming_essentials.pdf</a>\n",
            "<a href=\"web_scraping_with_python.pdf\">web_scraping_with_python.pdf</a>\n"
          ]
        }
      ]
    },
    {
      "cell_type": "code",
      "source": [
        "links[9]"
      ],
      "metadata": {
        "colab": {
          "base_uri": "https://localhost:8080/"
        },
        "id": "9V_wfxyfzRUm",
        "outputId": "6f6dac42-bfb8-495b-b8e9-03703c5aa891"
      },
      "execution_count": null,
      "outputs": [
        {
          "output_type": "execute_result",
          "data": {
            "text/plain": [
              "<a href=\"natural_language_processing_with_python.pdf\">natural_language_processing_with_python.pdf</a>"
            ]
          },
          "metadata": {},
          "execution_count": 15
        }
      ]
    },
    {
      "cell_type": "code",
      "source": [
        "book_name = links[9].get('href')"
      ],
      "metadata": {
        "id": "1LksSjTZ06Wd"
      },
      "execution_count": null,
      "outputs": []
    },
    {
      "cell_type": "code",
      "source": [
        "full_link = main_link + book_name"
      ],
      "metadata": {
        "id": "djmJri-z1IYl"
      },
      "execution_count": null,
      "outputs": []
    },
    {
      "cell_type": "code",
      "source": [
        "response = requests.get(full_link)"
      ],
      "metadata": {
        "id": "Di9005jgzKci"
      },
      "execution_count": null,
      "outputs": []
    },
    {
      "cell_type": "markdown",
      "source": [
        "## Download the files on user's machine"
      ],
      "metadata": {
        "id": "4mrF-EdmuhEy"
      }
    },
    {
      "cell_type": "code",
      "source": [
        "# Write content in pdf file\n",
        "pdf = open(f\"{book_name}.pdf\", 'wb')\n",
        "pdf.write(response.content)\n",
        "pdf.close()\n",
        "print(\"File downloaded\")"
      ],
      "metadata": {
        "id": "qUD8ejYIugf8"
      },
      "execution_count": null,
      "outputs": []
    },
    {
      "cell_type": "markdown",
      "source": [
        "# Iterative download"
      ],
      "metadata": {
        "id": "nwc3vG-O27Ji"
      }
    },
    {
      "cell_type": "code",
      "source": [
        "links[0].get('href')"
      ],
      "metadata": {
        "colab": {
          "base_uri": "https://localhost:8080/",
          "height": 36
        },
        "id": "F3KC-rvf4ADt",
        "outputId": "7c2165b9-7551-4a8a-aed1-b8b289b154b4"
      },
      "execution_count": null,
      "outputs": [
        {
          "output_type": "execute_result",
          "data": {
            "text/plain": [
              "'?C=N;O=D'"
            ],
            "application/vnd.google.colaboratory.intrinsic+json": {
              "type": "string"
            }
          },
          "metadata": {},
          "execution_count": 28
        }
      ]
    },
    {
      "cell_type": "code",
      "source": [
        "'.pdf' in links[0].get('href')"
      ],
      "metadata": {
        "colab": {
          "base_uri": "https://localhost:8080/"
        },
        "id": "i3b6V6hz34S7",
        "outputId": "6e0c14d8-73bd-4e1c-8ecb-2dd60133ee8d"
      },
      "execution_count": null,
      "outputs": [
        {
          "output_type": "execute_result",
          "data": {
            "text/plain": [
              "False"
            ]
          },
          "metadata": {},
          "execution_count": 29
        }
      ]
    },
    {
      "cell_type": "code",
      "source": [
        "i = 0\n",
        "  \n",
        "# From all links check for pdf link and\n",
        "# if present download file\n",
        "for link in links:\n",
        "    if ('.pdf' in link.get('href', [])):\n",
        "        i += 1\n",
        "  \n",
        "        book_name = link.get('href')\n",
        "        full_link = main_link + book_name\n",
        "        \n",
        "        print(f\"Downloading file number {i}: {full_link}\")\n",
        "        \n",
        "        # Get response object for link\n",
        "        response = requests.get(full_link)\n",
        "  \n",
        "        # Write content in pdf file\n",
        "        pdf = open(f\"{book_name}.pdf\", 'wb')\n",
        "        pdf.write(response.content)\n",
        "        pdf.close()\n",
        "        print(f\"File {i}: {book_name} downloaded\")"
      ],
      "metadata": {
        "colab": {
          "base_uri": "https://localhost:8080/"
        },
        "id": "MLxfgxSKx52E",
        "outputId": "10d1d6f4-b621-4ef7-ccf7-c046f02c9ea8"
      },
      "execution_count": null,
      "outputs": [
        {
          "output_type": "stream",
          "name": "stdout",
          "text": [
            "Downloading file number 1: https://porn.jules-aubert.info/humble_bundle/python_by_oreilly/elegant_scipy.pdf\n",
            "File 1: elegant_scipy.pdf downloaded\n",
            "Downloading file number 2: https://porn.jules-aubert.info/humble_bundle/python_by_oreilly/flask_web_development.pdf\n",
            "File 2: flask_web_development.pdf downloaded\n",
            "Downloading file number 3: https://porn.jules-aubert.info/humble_bundle/python_by_oreilly/fluent_python.pdf\n",
            "File 3: fluent_python.pdf downloaded\n",
            "Downloading file number 4: https://porn.jules-aubert.info/humble_bundle/python_by_oreilly/introducing_python.pdf\n",
            "File 4: introducing_python.pdf downloaded\n",
            "Downloading file number 5: https://porn.jules-aubert.info/humble_bundle/python_by_oreilly/natural_language_processing_with_python.pdf\n",
            "File 5: natural_language_processing_with_python.pdf downloaded\n",
            "Downloading file number 6: https://porn.jules-aubert.info/humble_bundle/python_by_oreilly/python_data_science_handbook.pdf\n",
            "File 6: python_data_science_handbook.pdf downloaded\n",
            "Downloading file number 7: https://porn.jules-aubert.info/humble_bundle/python_by_oreilly/test-driven_development_with_python.pdf\n",
            "File 7: test-driven_development_with_python.pdf downloaded\n",
            "Downloading file number 8: https://porn.jules-aubert.info/humble_bundle/python_by_oreilly/the_hitchhiker_s_guide_to_python.pdf\n",
            "File 8: the_hitchhiker_s_guide_to_python.pdf downloaded\n",
            "Downloading file number 9: https://porn.jules-aubert.info/humble_bundle/python_by_oreilly/think_bayes.pdf\n",
            "File 9: think_bayes.pdf downloaded\n",
            "Downloading file number 10: https://porn.jules-aubert.info/humble_bundle/python_by_oreilly/think_python.pdf\n",
            "File 10: think_python.pdf downloaded\n",
            "Downloading file number 11: https://porn.jules-aubert.info/humble_bundle/python_by_oreilly/thoughtful_machine_learning_with_python.pdf\n",
            "File 11: thoughtful_machine_learning_with_python.pdf downloaded\n",
            "Downloading file number 12: https://porn.jules-aubert.info/humble_bundle/python_by_oreilly/twisted_network_programming_essentials.pdf\n",
            "File 12: twisted_network_programming_essentials.pdf downloaded\n",
            "Downloading file number 13: https://porn.jules-aubert.info/humble_bundle/python_by_oreilly/web_scraping_with_python.pdf\n",
            "File 13: web_scraping_with_python.pdf downloaded\n"
          ]
        }
      ]
    },
    {
      "cell_type": "code",
      "source": [],
      "metadata": {
        "id": "uUKTTrRu2-wa"
      },
      "execution_count": null,
      "outputs": []
    },
    {
      "cell_type": "markdown",
      "source": [
        "# Complete POC"
      ],
      "metadata": {
        "id": "uTBRx9mr5ecO"
      }
    },
    {
      "cell_type": "code",
      "source": [
        "import requests\n",
        "from bs4 import BeautifulSoup\n",
        "\n",
        "#main_link = 'https://porn.jules-aubert.info/humble_bundle/python_by_oreilly/'\n",
        "main_link = 'https://porn.jules-aubert.info/humble_bundle/programming_by_packt/'\n",
        "\n",
        "# Making a GET request\n",
        "r = requests.get(main_link)\n",
        "\n",
        "soup = BeautifulSoup(r.text, 'html.parser')\n",
        "\n",
        "# Find all hyperlinks present on webpage\n",
        "links = soup.find_all('a')\n",
        "\n",
        "i = 0\n",
        "  \n",
        "# From all links check for pdf link and\n",
        "# if present download file\n",
        "for link in links:\n",
        "    if ('.pdf' in link.get('href', [])):\n",
        "        i += 1\n",
        "  \n",
        "        book_name = link.get('href')\n",
        "        full_link = main_link + book_name\n",
        "        \n",
        "        print(f\"Downloading file number {i}: {full_link}\")\n",
        "        \n",
        "        # Get response object for link\n",
        "        response = requests.get(full_link)\n",
        "  \n",
        "        # Write content in pdf file\n",
        "        pdf = open(f\"{book_name}.pdf\", 'wb')\n",
        "        pdf.write(response.content)\n",
        "        pdf.close()\n",
        "        print(f\"File {i}: {book_name} downloaded\")"
      ],
      "metadata": {
        "colab": {
          "base_uri": "https://localhost:8080/"
        },
        "id": "l1enDiMP5gwf",
        "outputId": "e973c0bf-d390-4fdc-ad4a-aa946404adca"
      },
      "execution_count": null,
      "outputs": [
        {
          "output_type": "stream",
          "name": "stdout",
          "text": [
            "Downloading file number 1: https://porn.jules-aubert.info/humble_bundle/python_by_oreilly/elegant_scipy.pdf\n",
            "File 1: elegant_scipy.pdf downloaded\n",
            "Downloading file number 2: https://porn.jules-aubert.info/humble_bundle/python_by_oreilly/flask_web_development.pdf\n",
            "File 2: flask_web_development.pdf downloaded\n",
            "Downloading file number 3: https://porn.jules-aubert.info/humble_bundle/python_by_oreilly/fluent_python.pdf\n",
            "File 3: fluent_python.pdf downloaded\n",
            "Downloading file number 4: https://porn.jules-aubert.info/humble_bundle/python_by_oreilly/introducing_python.pdf\n",
            "File 4: introducing_python.pdf downloaded\n",
            "Downloading file number 5: https://porn.jules-aubert.info/humble_bundle/python_by_oreilly/natural_language_processing_with_python.pdf\n",
            "File 5: natural_language_processing_with_python.pdf downloaded\n",
            "Downloading file number 6: https://porn.jules-aubert.info/humble_bundle/python_by_oreilly/python_data_science_handbook.pdf\n",
            "File 6: python_data_science_handbook.pdf downloaded\n",
            "Downloading file number 7: https://porn.jules-aubert.info/humble_bundle/python_by_oreilly/test-driven_development_with_python.pdf\n",
            "File 7: test-driven_development_with_python.pdf downloaded\n",
            "Downloading file number 8: https://porn.jules-aubert.info/humble_bundle/python_by_oreilly/the_hitchhiker_s_guide_to_python.pdf\n",
            "File 8: the_hitchhiker_s_guide_to_python.pdf downloaded\n",
            "Downloading file number 9: https://porn.jules-aubert.info/humble_bundle/python_by_oreilly/think_bayes.pdf\n",
            "File 9: think_bayes.pdf downloaded\n",
            "Downloading file number 10: https://porn.jules-aubert.info/humble_bundle/python_by_oreilly/think_python.pdf\n",
            "File 10: think_python.pdf downloaded\n",
            "Downloading file number 11: https://porn.jules-aubert.info/humble_bundle/python_by_oreilly/thoughtful_machine_learning_with_python.pdf\n",
            "File 11: thoughtful_machine_learning_with_python.pdf downloaded\n",
            "Downloading file number 12: https://porn.jules-aubert.info/humble_bundle/python_by_oreilly/twisted_network_programming_essentials.pdf\n",
            "File 12: twisted_network_programming_essentials.pdf downloaded\n",
            "Downloading file number 13: https://porn.jules-aubert.info/humble_bundle/python_by_oreilly/web_scraping_with_python.pdf\n",
            "File 13: web_scraping_with_python.pdf downloaded\n"
          ]
        }
      ]
    },
    {
      "cell_type": "markdown",
      "source": [
        "This code deletes every PDF file "
      ],
      "metadata": {
        "id": "ACyi-Ixh6EQY"
      }
    },
    {
      "cell_type": "code",
      "source": [
        "rm -r /content/*.pdf"
      ],
      "metadata": {
        "id": "5vURqQPS55pK"
      },
      "execution_count": null,
      "outputs": []
    },
    {
      "cell_type": "code",
      "source": [],
      "metadata": {
        "id": "x4f7TFmW6BvO"
      },
      "execution_count": null,
      "outputs": []
    }
  ]
}