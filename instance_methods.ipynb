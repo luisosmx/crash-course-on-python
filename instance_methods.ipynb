{
  "nbformat": 4,
  "nbformat_minor": 0,
  "metadata": {
    "colab": {
      "provenance": [],
      "authorship_tag": "ABX9TyNw+5CyuT9g1jgg2bSadQhs",
      "include_colab_link": true
    },
    "kernelspec": {
      "name": "python3",
      "display_name": "Python 3"
    },
    "language_info": {
      "name": "python"
    }
  },
  "cells": [
    {
      "cell_type": "markdown",
      "metadata": {
        "id": "view-in-github",
        "colab_type": "text"
      },
      "source": [
        "<a href=\"https://colab.research.google.com/github/luisosmx/crash-course-on-python/blob/main/instance_methods.ipynb\" target=\"_parent\"><img src=\"https://colab.research.google.com/assets/colab-badge.svg\" alt=\"Open In Colab\"/></a>"
      ]
    },
    {
      "cell_type": "markdown",
      "source": [
        "Create a Dog class with dog_years based on the Piglet class shown before (one human year is about 7 dog years)."
      ],
      "metadata": {
        "id": "OHuV7nhte7z0"
      }
    },
    {
      "cell_type": "code",
      "source": [
        "class Dog:\n",
        "  years = 0\n",
        "  __\n",
        "    \n",
        "fido=Dog()\n",
        "fido.years=3\n",
        "print(fido.dog_years())"
      ],
      "metadata": {
        "id": "AF7_lmvHfDMt"
      },
      "execution_count": null,
      "outputs": []
    },
    {
      "cell_type": "code",
      "execution_count": 1,
      "metadata": {
        "colab": {
          "base_uri": "https://localhost:8080/"
        },
        "id": "7fnlJTLTeznQ",
        "outputId": "602c737f-b519-4277-88fe-e55849c39c5b"
      },
      "outputs": [
        {
          "output_type": "stream",
          "name": "stdout",
          "text": [
            "21\n"
          ]
        }
      ],
      "source": [
        "class Dog:\n",
        "  years = 0\n",
        "  def dog_years(breed):\n",
        "    return breed.years * 7\n",
        "\n",
        "    \n",
        "fido=Dog()\n",
        "fido.years=3\n",
        "print(fido.dog_years())"
      ]
    },
    {
      "cell_type": "markdown",
      "source": [
        "Want to see this in action?\n",
        " \n",
        " In this code, there's a Person class that has an attribute name, which gets set when constructing the object. Fill in the blanks so that 1) when an instance of the class is created, the attribute gets set correctly, and 2) when the greeting() method is called, the greeting states the assigned name."
      ],
      "metadata": {
        "id": "JhwczSchAk05"
      }
    },
    {
      "cell_type": "code",
      "source": [
        "class Person:\n",
        "    def __init__(self, name):\n",
        "        self.name = ___\n",
        "    def greeting(self):\n",
        "        # Should return \"hi, my name is \" followed by the name of the Person.\n",
        "        return ___ \n",
        "\n",
        "# Create a new instance with a name of your choice\n",
        "some_person = ___  \n",
        "# Call the greeting method\n",
        "print(some_person.___)"
      ],
      "metadata": {
        "id": "Af1u1-ynAmHo"
      },
      "execution_count": null,
      "outputs": []
    },
    {
      "cell_type": "code",
      "source": [
        "class Person:\n",
        "    def __init__(self, name):\n",
        "        self.name = name\n",
        "    def greeting(self):\n",
        "        # Should return \"hi, my name is \" followed by the name of the Person.\n",
        "        print(\"hi, my name is \", self.name)\n",
        "\n",
        "# Create a new instance with a name of your choice\n",
        "some_person = Person(\"honey\")  \n",
        "# Call the greeting method\n",
        "print(some_person.greeting())"
      ],
      "metadata": {
        "colab": {
          "base_uri": "https://localhost:8080/"
        },
        "id": "aNsG7l2YAvVh",
        "outputId": "ccc96af0-a1f4-49d6-92a8-c08468e5e2a7"
      },
      "execution_count": 1,
      "outputs": [
        {
          "output_type": "stream",
          "name": "stdout",
          "text": [
            "hi, my name is  honey\n",
            "None\n"
          ]
        }
      ]
    }
  ]
}