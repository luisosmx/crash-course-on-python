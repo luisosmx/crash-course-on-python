{
  "nbformat": 4,
  "nbformat_minor": 0,
  "metadata": {
    "colab": {
      "provenance": [],
      "authorship_tag": "ABX9TyOawlduLPha0TGogKJWCL91",
      "include_colab_link": true
    },
    "kernelspec": {
      "name": "python3",
      "display_name": "Python 3"
    },
    "language_info": {
      "name": "python"
    }
  },
  "cells": [
    {
      "cell_type": "markdown",
      "metadata": {
        "id": "view-in-github",
        "colab_type": "text"
      },
      "source": [
        "<a href=\"https://colab.research.google.com/github/luisosmx/crash-course-on-python/blob/main/Module_3_Graded_Assessment.ipynb\" target=\"_parent\"><img src=\"https://colab.research.google.com/assets/colab-badge.svg\" alt=\"Open In Colab\"/></a>"
      ]
    },
    {
      "cell_type": "markdown",
      "source": [
        "Fill in the blanks of this code to print out the numbers 1 through 7.\n",
        "\n"
      ],
      "metadata": {
        "id": "9WX3b0RaSi7G"
      }
    },
    {
      "cell_type": "code",
      "source": [
        "number = 1\n",
        "while number ___ 7:\n",
        "\tprint(number, end=\" \")\n",
        "\t___"
      ],
      "metadata": {
        "id": "sLM_nLkUSpY9"
      },
      "execution_count": null,
      "outputs": []
    },
    {
      "cell_type": "code",
      "execution_count": 1,
      "metadata": {
        "colab": {
          "base_uri": "https://localhost:8080/"
        },
        "id": "27i8UCn8SeB-",
        "outputId": "c6268417-5f3f-4a24-9d99-04b9890bf128"
      },
      "outputs": [
        {
          "output_type": "stream",
          "name": "stdout",
          "text": [
            "1 2 3 4 5 6 7 "
          ]
        }
      ],
      "source": [
        "number = 1\n",
        "while number <= 7:\n",
        "\tprint(number, end=\" \")\n",
        "\tnumber += 1"
      ]
    }
  ]
}