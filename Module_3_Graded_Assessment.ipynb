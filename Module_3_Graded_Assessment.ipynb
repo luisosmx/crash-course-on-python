{
  "nbformat": 4,
  "nbformat_minor": 0,
  "metadata": {
    "colab": {
      "provenance": [],
      "authorship_tag": "ABX9TyOJ52oACM7ZNP69TH7ypur0",
      "include_colab_link": true
    },
    "kernelspec": {
      "name": "python3",
      "display_name": "Python 3"
    },
    "language_info": {
      "name": "python"
    }
  },
  "cells": [
    {
      "cell_type": "markdown",
      "metadata": {
        "id": "view-in-github",
        "colab_type": "text"
      },
      "source": [
        "<a href=\"https://colab.research.google.com/github/luisosmx/crash-course-on-python/blob/main/Module_3_Graded_Assessment.ipynb\" target=\"_parent\"><img src=\"https://colab.research.google.com/assets/colab-badge.svg\" alt=\"Open In Colab\"/></a>"
      ]
    },
    {
      "cell_type": "markdown",
      "source": [
        "Fill in the blanks of this code to print out the numbers 1 through 7.\n",
        "\n"
      ],
      "metadata": {
        "id": "9WX3b0RaSi7G"
      }
    },
    {
      "cell_type": "code",
      "source": [
        "number = 1\n",
        "while number ___ 7:\n",
        "\tprint(number, end=\" \")\n",
        "\t___"
      ],
      "metadata": {
        "id": "sLM_nLkUSpY9"
      },
      "execution_count": null,
      "outputs": []
    },
    {
      "cell_type": "code",
      "execution_count": null,
      "metadata": {
        "colab": {
          "base_uri": "https://localhost:8080/"
        },
        "id": "27i8UCn8SeB-",
        "outputId": "c6268417-5f3f-4a24-9d99-04b9890bf128"
      },
      "outputs": [
        {
          "output_type": "stream",
          "name": "stdout",
          "text": [
            "1 2 3 4 5 6 7 "
          ]
        }
      ],
      "source": [
        "number = 1\n",
        "while number <= 7:\n",
        "\tprint(number, end=\" \")\n",
        "\tnumber += 1"
      ]
    },
    {
      "cell_type": "markdown",
      "source": [
        "The show_letters function should print out each letter of a word on a separate line. Fill in the blanks to make that happen.\n",
        "\n"
      ],
      "metadata": {
        "id": "_TBNljkLb3dB"
      }
    },
    {
      "cell_type": "code",
      "source": [
        "def show_letters(word):\n",
        "\tfor __:\n",
        "\t\tprint(__)\n",
        "\n",
        "show_letters(\"Hello\")\n",
        "# Should print one line per letter"
      ],
      "metadata": {
        "id": "iztBV0xDcCrY"
      },
      "execution_count": null,
      "outputs": []
    },
    {
      "cell_type": "code",
      "source": [
        "def show_letters(word):\n",
        "\tfor letter in word:\n",
        "\t\tprint(letter)\n",
        "\n",
        "show_letters(\"Hello\")\n",
        "# Should print one line per letter"
      ],
      "metadata": {
        "colab": {
          "base_uri": "https://localhost:8080/"
        },
        "id": "eJipoU_Lb_C4",
        "outputId": "0446ee8e-8286-4030-a99c-6a3f99655841"
      },
      "execution_count": 2,
      "outputs": [
        {
          "output_type": "stream",
          "name": "stdout",
          "text": [
            "H\n",
            "e\n",
            "l\n",
            "l\n",
            "o\n"
          ]
        }
      ]
    },
    {
      "cell_type": "markdown",
      "source": [
        "Complete the function digits(n) that returns how many digits the number has. For example: 25 has 2 digits and 144 has 3 digits. Tip: you can figure out the digits of a number by dividing it by 10 once per digit until there are no digits left.\n",
        "\n",
        "\n"
      ],
      "metadata": {
        "id": "ufxuVWl7dU2i"
      }
    },
    {
      "cell_type": "code",
      "source": [
        "def digits(n):\n",
        "\tcount = 0\n",
        "\tif n == 0:\n",
        "\t  ___\n",
        "\twhile (___):\n",
        "\t\tcount += 1\n",
        "\t\t___\n",
        "\treturn count\n",
        "\t\n",
        "print(digits(25))   # Should print 2\n",
        "print(digits(144))  # Should print 3\n",
        "print(digits(1000)) # Should print 4\n",
        "print(digits(0))    # Should print 1"
      ],
      "metadata": {
        "id": "Wpe3xqFZdawI"
      },
      "execution_count": null,
      "outputs": []
    },
    {
      "cell_type": "code",
      "source": [
        "def digits(n):\n",
        "\tcount = 0\n",
        "\tif n == 0:\n",
        "\t  return 1 \n",
        "\twhile (n > 0):\n",
        "\t\tcount += 1\n",
        "\t\tn = n // 10\n",
        "\treturn count\n",
        "\t\n",
        "print(digits(25))   # Should print 2\n",
        "print(digits(144))  # Should print 3\n",
        "print(digits(1000)) # Should print 4\n",
        "print(digits(0))    # Should print 1"
      ],
      "metadata": {
        "colab": {
          "base_uri": "https://localhost:8080/"
        },
        "id": "Ocap4qxFdWP5",
        "outputId": "6a9cf59d-deae-4e18-db4f-563209fb0cc6"
      },
      "execution_count": 3,
      "outputs": [
        {
          "output_type": "stream",
          "name": "stdout",
          "text": [
            "2\n",
            "3\n",
            "4\n",
            "1\n"
          ]
        }
      ]
    }
  ]
}