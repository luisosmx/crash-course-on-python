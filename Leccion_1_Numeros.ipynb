{
  "cells": [
    {
      "cell_type": "markdown",
      "metadata": {
        "id": "view-in-github",
        "colab_type": "text"
      },
      "source": [
        "<a href=\"https://colab.research.google.com/github/luisosmx/crash-course-on-python/blob/main/Leccion_1_Numeros.ipynb\" target=\"_parent\"><img src=\"https://colab.research.google.com/assets/colab-badge.svg\" alt=\"Open In Colab\"/></a>"
      ]
    },
    {
      "cell_type": "markdown",
      "source": [
        "#Print\n",
        "Una funcionalidad que encontramos en todos los lenguajes es la de imprimir un valor por pantalla. En Python esa función se llama print() y debemos pasar el valor o literal entre los paréntesis. Modifica el código del ejercicio para que el resultado mostrado sea el siguiente:"
      ],
      "metadata": {
        "id": "7NPjwBGMdyd7"
      }
    },
    {
      "cell_type": "code",
      "source": [
        "123\n",
        "-21\n",
        "3.14\n",
        "999.999\n",
        "100\n",
        "777\n",
        "Nota: Quizá tengas que utilizar print()  varias veces!"
      ],
      "metadata": {
        "id": "zkopz0yUd5Op"
      },
      "execution_count": null,
      "outputs": []
    },
    {
      "cell_type": "markdown",
      "source": [
        "#Solucion:"
      ],
      "metadata": {
        "id": "2PRrFlr1er8Q"
      }
    },
    {
      "cell_type": "code",
      "source": [
        "print(123)\n",
        "print(-21)\n",
        "print(3.14)\n",
        "print(999.999)\n",
        "print(100)\n",
        "print(777)"
      ],
      "metadata": {
        "colab": {
          "base_uri": "https://localhost:8080/"
        },
        "id": "JQnvzWCDeCc5",
        "outputId": "bc1dbf47-83ef-4acd-e824-9c923d4bd4ab"
      },
      "execution_count": 1,
      "outputs": [
        {
          "output_type": "stream",
          "name": "stdout",
          "text": [
            "123\n",
            "-21\n",
            "3.14\n",
            "999.999\n",
            "100\n",
            "777\n"
          ]
        }
      ]
    },
    {
      "cell_type": "code",
      "source": [],
      "metadata": {
        "id": "I8y-BDgfewr5"
      },
      "execution_count": null,
      "outputs": []
    }
  ],
  "metadata": {
    "anaconda-cloud": {},
    "kernelspec": {
      "display_name": "Python [default]",
      "language": "python",
      "name": "python3"
    },
    "language_info": {
      "codemirror_mode": {
        "name": "ipython",
        "version": 3
      },
      "file_extension": ".py",
      "mimetype": "text/x-python",
      "name": "python",
      "nbconvert_exporter": "python",
      "pygments_lexer": "ipython3",
      "version": "3.5.2"
    },
    "colab": {
      "provenance": [],
      "include_colab_link": true
    }
  },
  "nbformat": 4,
  "nbformat_minor": 0
}