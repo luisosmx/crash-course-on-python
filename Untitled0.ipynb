{
  "nbformat": 4,
  "nbformat_minor": 0,
  "metadata": {
    "colab": {
      "provenance": [],
      "authorship_tag": "ABX9TyNofWu1FsWXJ1jCtz236S5X",
      "include_colab_link": true
    },
    "kernelspec": {
      "name": "python3",
      "display_name": "Python 3"
    },
    "language_info": {
      "name": "python"
    }
  },
  "cells": [
    {
      "cell_type": "markdown",
      "metadata": {
        "id": "view-in-github",
        "colab_type": "text"
      },
      "source": [
        "<a href=\"https://colab.research.google.com/github/luisosmx/crash-course-on-python/blob/main/Untitled0.ipynb\" target=\"_parent\"><img src=\"https://colab.research.google.com/assets/colab-badge.svg\" alt=\"Open In Colab\"/></a>"
      ]
    },
    {
      "cell_type": "markdown",
      "source": [
        "Fill in the blanks to make the factorial function return the factorial of n. Then, print the first 10 factorials (from 0 to 9) with the corresponding number. Remember that the factorial of a number is defined as the product of an integer and all integers before it. For example, the factorial of five (5!) is equal to 1*2*3*4*5=120. Also recall that the factorial of zero (0!) is equal to 1."
      ],
      "metadata": {
        "id": "sfpwqkHyjerC"
      }
    },
    {
      "cell_type": "code",
      "source": [
        "def factorial(n):\n",
        "    result = 1\n",
        "    for x in range(1,___):\n",
        "        result = ___ * ___\n",
        "    return ___\n",
        "\n",
        "for n in range(___,___):\n",
        "    print(n, factorial(n+___))"
      ],
      "metadata": {
        "id": "kf8c61yqjpCo"
      },
      "execution_count": null,
      "outputs": []
    },
    {
      "cell_type": "code",
      "source": [
        "def factorial(n):\n",
        "    result = 1\n",
        "    for x in range(1,n + 1):\n",
        "        result = result * x\n",
        "    return result\n",
        "\n",
        "for n in range(0,10):\n",
        "    print(n, factorial(n))"
      ],
      "metadata": {
        "id": "zrMnfO4wjmYA"
      },
      "execution_count": null,
      "outputs": []
    }
  ]
}