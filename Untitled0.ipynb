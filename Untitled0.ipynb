{
  "nbformat": 4,
  "nbformat_minor": 0,
  "metadata": {
    "colab": {
      "provenance": [],
      "authorship_tag": "ABX9TyMWk40eeUf7jgD+C1FuJ+U0",
      "include_colab_link": true
    },
    "kernelspec": {
      "name": "python3",
      "display_name": "Python 3"
    },
    "language_info": {
      "name": "python"
    }
  },
  "cells": [
    {
      "cell_type": "markdown",
      "metadata": {
        "id": "view-in-github",
        "colab_type": "text"
      },
      "source": [
        "<a href=\"https://colab.research.google.com/github/luisosmx/crash-course-on-python/blob/main/Untitled0.ipynb\" target=\"_parent\"><img src=\"https://colab.research.google.com/assets/colab-badge.svg\" alt=\"Open In Colab\"/></a>"
      ]
    },
    {
      "cell_type": "markdown",
      "source": [
        "Using the \"split\" string method from the preceding lesson, complete the get_word function to return the {n}th word from a passed sentence. For example, get_word(\"This is a lesson about lists\", 4) should return \"lesson\", which is the 4th word in this sentence. Hint: remember that list indexes start at 0, not 1. "
      ],
      "metadata": {
        "id": "XxYP72Djjxu6"
      }
    },
    {
      "cell_type": "code",
      "source": [
        "def get_word(sentence, n):\n",
        "\t# Only proceed if n is positive \n",
        "\tif n > 0:\n",
        "\t\twords = ___\n",
        "\t\t# Only proceed if n is not more than the number of words \n",
        "\t\tif n <= len(words):\n",
        "\t\t\treturn(___)\n",
        "\treturn(\"\")\n",
        "\n",
        "print(get_word(\"This is a lesson about lists\", 4)) # Should print: lesson\n",
        "print(get_word(\"This is a lesson about lists\", -4)) # Nothing\n",
        "print(get_word(\"Now we are cooking!\", 1)) # Should print: Now\n",
        "print(get_word(\"Now we are cooking!\", 5)) # Nothing"
      ],
      "metadata": {
        "id": "44ATddfwktwi"
      },
      "execution_count": null,
      "outputs": []
    },
    {
      "cell_type": "code",
      "execution_count": null,
      "metadata": {
        "colab": {
          "base_uri": "https://localhost:8080/"
        },
        "id": "PEfam0YajwGb",
        "outputId": "96dbaf3a-28bb-4a48-8552-fc45376cd741"
      },
      "outputs": [
        {
          "output_type": "stream",
          "name": "stdout",
          "text": [
            "lesson\n",
            "\n",
            "Now\n",
            "\n"
          ]
        }
      ],
      "source": [
        "def get_word(sentence, n):\n",
        "\t# Only proceed if n is positive \n",
        "\tif n > 0:\n",
        "\t\twords = sentence.split()\n",
        "\t\t# Only proceed if n is not more than the number of words \n",
        "\t\tif n <= len(words):\n",
        "\t\t\treturn words[n-1]\n",
        "\treturn(\"\")\n",
        "\n",
        "print(get_word(\"This is a lesson about lists\", 4)) # Should print: lesson\n",
        "print(get_word(\"This is a lesson about lists\", -4)) # Nothing\n",
        "print(get_word(\"Now we are cooking!\", 1)) # Should print: Now\n",
        "print(get_word(\"Now we are cooking!\", 5)) # Nothing"
      ]
    },
    {
      "cell_type": "markdown",
      "source": [
        "Let's use tuples to store information about a file: its name, its type and its size in bytes. Fill in the gaps in this code to return the size in kilobytes (a kilobyte is 1024 bytes) up to 2 decimal places. "
      ],
      "metadata": {
        "id": "EG6zOVBzT2i2"
      }
    },
    {
      "cell_type": "code",
      "source": [
        "def file_size(file_info):\n",
        "\t___, ___, ___= file_info\n",
        "\treturn(\"{:.2f}\".format(___ / 1024))\n",
        "\n",
        "print(file_size(('Class Assignment', 'docx', 17875))) # Should print 17.46\n",
        "print(file_size(('Notes', 'txt', 496))) # Should print 0.48\n",
        "print(file_size(('Program', 'py', 1239))) # Should print 1.21"
      ],
      "metadata": {
        "id": "JX6hEyAUT-3s"
      },
      "execution_count": null,
      "outputs": []
    },
    {
      "cell_type": "code",
      "source": [
        "def file_size(file_info):\n",
        "\tx, y, z= file_info\n",
        "\treturn(\"{:.2f}\".format(z / 1024))\n",
        "\n",
        "print(file_size(('Class Assignment', 'docx', 17875))) # Should print 17.46\n",
        "print(file_size(('Notes', 'txt', 496))) # Should print 0.48\n",
        "print(file_size(('Program', 'py', 1239))) # Should print 1.21"
      ],
      "metadata": {
        "colab": {
          "base_uri": "https://localhost:8080/"
        },
        "id": "NGRIv-HaT4EG",
        "outputId": "42ed6bb1-9c48-4c80-e18a-21bfbb66fe15"
      },
      "execution_count": null,
      "outputs": [
        {
          "output_type": "stream",
          "name": "stdout",
          "text": [
            "17.46\n",
            "0.48\n",
            "1.21\n"
          ]
        }
      ]
    },
    {
      "cell_type": "markdown",
      "source": [
        "Try out the enumerate function for yourself in this quick exercise. Complete the skip_elements function to return every other element from the list, this time using the enumerate function to check if an element is in an even position or an odd position."
      ],
      "metadata": {
        "id": "d9qyz41U1PgS"
      }
    },
    {
      "cell_type": "code",
      "source": [
        "def skip_elements(elements):\n",
        "\t# code goes here\n",
        "\t\n",
        "\treturn ___\n",
        "\n",
        "print(skip_elements([\"a\", \"b\", \"c\", \"d\", \"e\", \"f\", \"g\"])) # Should be ['a', 'c', 'e', 'g']\n",
        "print(skip_elements(['Orange', 'Pineapple', 'Strawberry', 'Kiwi', 'Peach'])) # Should be ['Orange', 'Strawberry', 'Peach']"
      ],
      "metadata": {
        "id": "uF3lT3El1c8h"
      },
      "execution_count": null,
      "outputs": []
    },
    {
      "cell_type": "code",
      "source": [
        "def skip_elements(elements):\n",
        "\t# code goes here\n",
        "\telement = []\n",
        "\tfor i, e in enumerate(elements):\n",
        "\t\tif i % 2 == 0:\n",
        "\t\t\telement.append(e)\n",
        "\treturn element\n",
        "\n",
        "print(skip_elements([\"a\", \"b\", \"c\", \"d\", \"e\", \"f\", \"g\"])) # Should be ['a', 'c', 'e', 'g']\n",
        "print(skip_elements(['Orange', 'Pineapple', 'Strawberry', 'Kiwi', 'Peach'])) # Should be ['Orange', 'Strawberry', 'Peach']"
      ],
      "metadata": {
        "colab": {
          "base_uri": "https://localhost:8080/"
        },
        "id": "17ECc15i1O5x",
        "outputId": "5a90da33-1f3e-4a38-f348-90119473fbfd"
      },
      "execution_count": null,
      "outputs": [
        {
          "output_type": "stream",
          "name": "stdout",
          "text": [
            "['a', 'c', 'e', 'g']\n",
            "['Orange', 'Strawberry', 'Peach']\n"
          ]
        }
      ]
    },
    {
      "cell_type": "markdown",
      "source": [
        "The odd_numbers function returns a list of odd numbers between 1 and n, inclusively. Fill in the blanks in the function, using list comprehension. Hint: remember that list and range counters start at 0 and end at the limit minus 1."
      ],
      "metadata": {
        "id": "nRihn4KB946_"
      }
    },
    {
      "cell_type": "code",
      "source": [
        "def odd_numbers(n):\n",
        "\treturn [x for x in ___ if ___]\n",
        "\n",
        "print(odd_numbers(5))  # Should print [1, 3, 5]\n",
        "print(odd_numbers(10)) # Should print [1, 3, 5, 7, 9]\n",
        "print(odd_numbers(11)) # Should print [1, 3, 5, 7, 9, 11]\n",
        "print(odd_numbers(1))  # Should print [1]\n",
        "print(odd_numbers(-1)) # Should print []"
      ],
      "metadata": {
        "id": "UtwrBM8t-AoX"
      },
      "execution_count": null,
      "outputs": []
    },
    {
      "cell_type": "code",
      "source": [
        "def odd_numbers(n):\n",
        "\treturn [x for x in range(0, n+1) if x % 2 == 1]\n",
        "\n",
        "print(odd_numbers(5))  # Should print [1, 3, 5]\n",
        "print(odd_numbers(10)) # Should print [1, 3, 5, 7, 9]\n",
        "print(odd_numbers(11)) # Should print [1, 3, 5, 7, 9, 11]\n",
        "print(odd_numbers(1))  # Should print [1]\n",
        "print(odd_numbers(-1)) # Should print []"
      ],
      "metadata": {
        "colab": {
          "base_uri": "https://localhost:8080/"
        },
        "id": "jNLBm9j2961G",
        "outputId": "5abfbfcf-9b92-40b2-edc2-044a3be7884e"
      },
      "execution_count": 1,
      "outputs": [
        {
          "output_type": "stream",
          "name": "stdout",
          "text": [
            "[1, 3, 5]\n",
            "[1, 3, 5, 7, 9]\n",
            "[1, 3, 5, 7, 9, 11]\n",
            "[1]\n",
            "[]\n"
          ]
        }
      ]
    }
  ]
}