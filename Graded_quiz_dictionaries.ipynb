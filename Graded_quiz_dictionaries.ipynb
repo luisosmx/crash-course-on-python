{
  "nbformat": 4,
  "nbformat_minor": 0,
  "metadata": {
    "colab": {
      "provenance": [],
      "authorship_tag": "ABX9TyNrIpZmyJwMVNMN+eaeJy6F",
      "include_colab_link": true
    },
    "kernelspec": {
      "name": "python3",
      "display_name": "Python 3"
    },
    "language_info": {
      "name": "python"
    }
  },
  "cells": [
    {
      "cell_type": "markdown",
      "metadata": {
        "id": "view-in-github",
        "colab_type": "text"
      },
      "source": [
        "<a href=\"https://colab.research.google.com/github/luisosmx/crash-course-on-python/blob/main/Graded_quiz_dictionaries.ipynb\" target=\"_parent\"><img src=\"https://colab.research.google.com/assets/colab-badge.svg\" alt=\"Open In Colab\"/></a>"
      ]
    },
    {
      "cell_type": "markdown",
      "source": [
        "Question 1\n",
        "\n",
        "The format_address function separates out parts of the address string into new strings: house_number and street_name, and returns: \"house number X on street named Y\". The format of the input string is: numeric house number, followed by the street name which may contain numbers, but never by themselves, and could be several words long. For example, \"123 Main Street\", \"1001 1st Ave\", or \"55 North Center Drive\". Fill in the gaps to complete this function."
      ],
      "metadata": {
        "id": "nQ4IFcXM0cNT"
      }
    },
    {
      "cell_type": "code",
      "execution_count": null,
      "metadata": {
        "id": "ePE3NaM80VGC"
      },
      "outputs": [],
      "source": [
        "def format_address(address_string):\n",
        "  # Declare variables\n",
        "\n",
        "  # Separate the address string into parts\n",
        "\n",
        "  # Traverse through the address parts\n",
        "  for __:\n",
        "    # Determine if the address part is the\n",
        "    # house number or part of the street name\n",
        "\n",
        "  # Does anything else need to be done \n",
        "  # before returning the result?\n",
        "  \n",
        "  # Return the formatted string  \n",
        "  return \"house number {} on street named {}\".format(__)\n",
        "\n",
        "print(format_address(\"123 Main Street\"))\n",
        "# Should print: \"house number 123 on street named Main Street\"\n",
        "\n",
        "print(format_address(\"1001 1st Ave\"))\n",
        "# Should print: \"house number 1001 on street named 1st Ave\"\n",
        "\n",
        "print(format_address(\"55 North Center Drive\"))\n",
        "# Should print \"house number 55 on street named North Center Drive\""
      ]
    },
    {
      "cell_type": "code",
      "source": [
        "def format_address(address_string):\n",
        "  street = []\n",
        "  address = address_string.split()\n",
        "  # Declare variables\n",
        "\n",
        "  # Separate the address string into parts\n",
        "\n",
        "  # Traverse through the address parts\n",
        "  for parts in address:\n",
        "    if parts.isnumeric():\n",
        "      number = parts\n",
        "    else:\n",
        "      street += [parts]\n",
        "    # Determine if the address part is the\n",
        "    # house number or part of the street name\n",
        "\n",
        "  # Does anything else need to be done \n",
        "  # before returning the result?\n",
        "  \n",
        "  # Return the formatted string  \n",
        "  return \"house number {} on street named {}\".format(number, \" \".join(street))\n",
        "\n",
        "print(format_address(\"123 Main Street\"))\n",
        "# Should print: \"house number 123 on street named Main Street\"\n",
        "\n",
        "print(format_address(\"1001 1st Ave\"))\n",
        "# Should print: \"house number 1001 on street named 1st Ave\"\n",
        "\n",
        "print(format_address(\"55 North Center Drive\"))\n",
        "# Should print \"house number 55 on street named North Center Drive\"\n"
      ],
      "metadata": {
        "colab": {
          "base_uri": "https://localhost:8080/"
        },
        "id": "YWn7UOj-2RUN",
        "outputId": "538ce9fa-b18b-401e-fee2-2842d7a4f977"
      },
      "execution_count": 1,
      "outputs": [
        {
          "output_type": "stream",
          "name": "stdout",
          "text": [
            "house number 123 on street named Main Street\n",
            "house number 1001 on street named 1st Ave\n",
            "house number 55 on street named North Center Drive\n"
          ]
        }
      ]
    }
  ]
}