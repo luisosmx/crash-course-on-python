{
  "nbformat": 4,
  "nbformat_minor": 0,
  "metadata": {
    "colab": {
      "provenance": [],
      "authorship_tag": "ABX9TyOvRTRQaC/weZ23oyHxpphR",
      "include_colab_link": true
    },
    "kernelspec": {
      "name": "python3",
      "display_name": "Python 3"
    },
    "language_info": {
      "name": "python"
    }
  },
  "cells": [
    {
      "cell_type": "markdown",
      "metadata": {
        "id": "view-in-github",
        "colab_type": "text"
      },
      "source": [
        "<a href=\"https://colab.research.google.com/github/luisosmx/crash-course-on-python/blob/main/code_reuse.ipynb\" target=\"_parent\"><img src=\"https://colab.research.google.com/assets/colab-badge.svg\" alt=\"Open In Colab\"/></a>"
      ]
    },
    {
      "cell_type": "markdown",
      "source": [
        "Let’s put what we learned about code reuse all together.\n",
        "\n",
        "First, let’s look back at inheritance. Run the following cell that defines a generic Animal class."
      ],
      "metadata": {
        "id": "5zqFCLmURFK7"
      }
    },
    {
      "cell_type": "code",
      "source": [
        "class Animal:\n",
        "    name = \"\"\n",
        "    category = \"\"\n",
        "    \n",
        "    def __init__(self, name):\n",
        "        self.name = name\n",
        "    \n",
        "    def set_category(self, category):\n",
        "        self.category = category"
      ],
      "metadata": {
        "id": "dPkXJ1-5RH2Z"
      },
      "execution_count": null,
      "outputs": []
    },
    {
      "cell_type": "markdown",
      "source": [
        "What we have is not enough to do much -- yet. That’s where you come in.\n",
        "\n",
        "In the next cell, define a Turtle class that inherits from the Animal class. Then go ahead and set its category. For instance, a turtle is generally considered a reptile. Although modern cladistics call this categorization into question, for purposes of this exercise we will say turtles are reptiles!"
      ],
      "metadata": {
        "id": "_8weIKBpRN15"
      }
    },
    {
      "cell_type": "code",
      "source": [
        "class Turtle(Animal):\n",
        "    category = \"reptile\""
      ],
      "metadata": {
        "id": "KRHGRyv5RO_h"
      },
      "execution_count": null,
      "outputs": []
    },
    {
      "cell_type": "markdown",
      "source": [
        "Run the following cell to check whether you correctly defined your Turtle class and set its category to reptile."
      ],
      "metadata": {
        "id": "PMGk3zf9RSdB"
      }
    },
    {
      "cell_type": "code",
      "source": [
        "print(Turtle.category)"
      ],
      "metadata": {
        "id": "lSxsu-TURTQZ"
      },
      "execution_count": null,
      "outputs": []
    },
    {
      "cell_type": "markdown",
      "source": [
        "reptile\n",
        "\n",
        "Was the output of the above cell reptile? If not, go back and edit your Turtle class making sure that it inherits from the Animal class and its category is properly set to reptile. Be sure to re-run that cell once you've finished your edits. Did you get it? If so, great!\n",
        "\n",
        "Next, let’s practice composition a little bit. This one will require a second type of Animal that is in the same category as the first. For example, since you already created a Turtle class, go ahead and create a Snake class. Don’t forget that it also inherits from the Animal class and that its category should be set to reptile."
      ],
      "metadata": {
        "id": "S0v02tShRV0Z"
      }
    },
    {
      "cell_type": "code",
      "source": [
        "class Snake(Animal):\n",
        "    category = \"reptile\""
      ],
      "metadata": {
        "id": "eMH3NRgzRbIP"
      },
      "execution_count": null,
      "outputs": []
    },
    {
      "cell_type": "markdown",
      "source": [
        "Now, let’s say we have a large variety of Animals (such as turtles and snakes) in a Zoo. Below we have the Zoo class. We’re going to use it to organize our various Animals. Remember, inheritance says a Turtle is an Animal, but a Zoo is not an Animal and an Animal is not a Zoo -- though they are related to one another.\n",
        "\n",
        "Fill in the blanks of the Zoo class below so that you can use zoo.add_animal( ) to add instances of the Animal subclasses you created above. Once you’ve added them all, you should be able to use zoo.total_of_category( ) to tell you exactly how many individual Animal types the Zoo has for each category! Be sure to run the cell once you've finished your edits."
      ],
      "metadata": {
        "id": "xzm9LLn1RfNJ"
      }
    },
    {
      "cell_type": "code",
      "source": [
        "class Zoo:\n",
        "    def __init__(self):\n",
        "        self.current_animals = {}\n",
        "    \n",
        "    def add_animal(self, animal):\n",
        "        self.current_animals[animal.name] = animal.category\n",
        "    \n",
        "    def total_of_category(self, category):\n",
        "        result = 0\n",
        "        for animal in self.current_animals.values():\n",
        "            if animal == category:\n",
        "                result += 1\n",
        "        return result\n",
        "\n",
        "zoo = Zoo()"
      ],
      "metadata": {
        "id": "TJG5SDwnRhk6"
      },
      "execution_count": null,
      "outputs": []
    },
    {
      "cell_type": "markdown",
      "source": [
        "Run the following cell to check whether you properly filled in the blanks of your Zoo class."
      ],
      "metadata": {
        "id": "1tWJRRmURkhq"
      }
    },
    {
      "cell_type": "code",
      "source": [
        "turtle = Turtle(\"Turtle\") #create an instance of the Turtle class\n",
        "snake = Snake(\"Snake\") #create an instance of the Snake class\n",
        "\n",
        "zoo.add_animal(turtle)\n",
        "zoo.add_animal(snake)\n",
        "\n",
        "print(zoo.total_of_category(\"reptile\")) #how many zoo animal types in the reptile category"
      ],
      "metadata": {
        "id": "me7yljC5Rle5"
      },
      "execution_count": null,
      "outputs": []
    },
    {
      "cell_type": "markdown",
      "source": [
        "Was the output of the above cell 2? If not, go back and edit the Zoo class making sure to fill in the blanks with the appropriate attributes. Be sure to re-run that cell once you've finished your edits.\n",
        "\n",
        "Did you get it? If so, perfect! You have successfully defined your Turtle and Snake subclasses as well as your Zoo class. You are all done with this notebook. Great work!"
      ],
      "metadata": {
        "id": "uT9-bOnIRpZR"
      }
    }
  ]
}