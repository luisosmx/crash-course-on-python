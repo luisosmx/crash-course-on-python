{
  "nbformat": 4,
  "nbformat_minor": 0,
  "metadata": {
    "colab": {
      "provenance": [],
      "authorship_tag": "ABX9TyNugjQSbBaD7YuK0mxIJQ5h",
      "include_colab_link": true
    },
    "kernelspec": {
      "name": "python3",
      "display_name": "Python 3"
    },
    "language_info": {
      "name": "python"
    }
  },
  "cells": [
    {
      "cell_type": "markdown",
      "metadata": {
        "id": "view-in-github",
        "colab_type": "text"
      },
      "source": [
        "<a href=\"https://colab.research.google.com/github/luisosmx/crash-course-on-python/blob/main/Implementing_Unit_Testing.ipynb\" target=\"_parent\"><img src=\"https://colab.research.google.com/assets/colab-badge.svg\" alt=\"Open In Colab\"/></a>"
      ]
    },
    {
      "cell_type": "code",
      "execution_count": null,
      "metadata": {
        "id": "kfugrtAjf_7o"
      },
      "outputs": [],
      "source": [
        "#!/usr/bin/env python3\n",
        "import sys\n",
        "import csv\n",
        "def populate_dictionary(filename):\n",
        "  \"\"\"Populate a dictionary with name/email pairs for easy lookup.\"\"\"\n",
        "  email_dict = {}\n",
        "  with open(filename) as csvfile:\n",
        "    lines = csv.reader(csvfile, delimiter = ',')\n",
        "    for row in lines:\n",
        "      name = str(row[0].lower())\n",
        "      email_dict[name] = row[1]\n",
        "  return email_dict\n",
        "def find_email(argv):\n",
        "  \"\"\" Return an email address based on the username given.\"\"\"\n",
        "  # Create the username based on the command line input.\n",
        "  try:\n",
        "    fullname = str(argv[1] + \" \" + argv[2])\n",
        "    # Preprocess the data\n",
        "    email_dict = populate_dictionary('/home/{{ username }}/data/user_emails.csv')\n",
        "    # Find and print the email\n",
        "    return email_dict.get(fullname.lower())\n",
        "  except IndexError:\n",
        "    return \"Missing parameters\"\n",
        "def main():\n",
        "  print(find_email(sys.argv))\n",
        "if __name__ == \"__main__\":\n",
        "  main()"
      ]
    },
    {
      "cell_type": "code",
      "source": [
        "#!/usr/bin/env python3\n",
        "import unittest\n",
        "from emails import find_email\n",
        "class EmailsTest(unittest.TestCase):\n",
        "  def test_basic(self):\n",
        "    testcase = [None, \"Bree\", \"Campbell\"]\n",
        "    expected = \"breee@abc.edu\"\n",
        "    self.assertEqual(find_email(testcase), expected)\n",
        "  def test_one_name(self):\n",
        "    testcase = [None, \"John\"]\n",
        "    expected = \"Missing parameters\"\n",
        "    self.assertEqual(find_email(testcase), expected)\n",
        "  def test_two_name(self):\n",
        "    testcase = [None, \"Roy\",\"Cooper\"]\n",
        "    expected = \"No email address found\"\n",
        "    self.assertEqual(find_email(testcase), expected)\n",
        "if __name__ == '__main__':\n",
        "  unittest.main()"
      ],
      "metadata": {
        "id": "6zS76cALgNHn"
      },
      "execution_count": null,
      "outputs": []
    },
    {
      "cell_type": "code",
      "source": [
        "#!/usr/bin/env python3\n",
        "import csv\n",
        "import sys\n",
        "def populate_dictionary(filename):\n",
        "  \"\"\"Populate a dictionary with name/email pairs for easy lookup.\"\"\"\n",
        "  email_dict = {}\n",
        "  with open(filename) as csvfile:\n",
        "    lines = csv.reader(csvfile, delimiter = ',')\n",
        "    for row in lines:\n",
        "      name = str(row[0].lower())\n",
        "      email_dict[name] = row[1]\n",
        "  return email_dict\n",
        "def find_email(argv):\n",
        "  \"\"\" Return an email address based on the username given.\"\"\"\n",
        "  # Create the username based on the command line input.\n",
        "  try:\n",
        "    fullname = str(argv[1] + \" \" + argv[2])\n",
        "    # Preprocess the data\n",
        "    email_dict = populate_dictionary('/home/{{ username }}/data/user_emails.csv')\n",
        "     # If email exists, print it\n",
        "    if email_dict.get(fullname.lower()):\n",
        "      return email_dict.get(fullname.lower())\n",
        "    else:\n",
        "      return \"No email address found\"\n",
        "  except IndexError:\n",
        "    return \"Missing parameters\"\n",
        "def main():\n",
        "  print(find_email(sys.argv))\n",
        "if __name__ == \"__main__\":\n",
        "  main()"
      ],
      "metadata": {
        "id": "K_mf23wmgTL_"
      },
      "execution_count": null,
      "outputs": []
    },
    {
      "cell_type": "code",
      "source": [],
      "metadata": {
        "id": "XVUzUjeFgXG6"
      },
      "execution_count": null,
      "outputs": []
    }
  ]
}