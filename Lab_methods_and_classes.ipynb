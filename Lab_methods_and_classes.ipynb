{
  "nbformat": 4,
  "nbformat_minor": 0,
  "metadata": {
    "colab": {
      "provenance": [],
      "authorship_tag": "ABX9TyNA8YS54EPs7MwwDlwAuNqH",
      "include_colab_link": true
    },
    "kernelspec": {
      "name": "python3",
      "display_name": "Python 3"
    },
    "language_info": {
      "name": "python"
    }
  },
  "cells": [
    {
      "cell_type": "markdown",
      "metadata": {
        "id": "view-in-github",
        "colab_type": "text"
      },
      "source": [
        "<a href=\"https://colab.research.google.com/github/luisosmx/crash-course-on-python/blob/main/Lab_methods_and_classes.ipynb\" target=\"_parent\"><img src=\"https://colab.research.google.com/assets/colab-badge.svg\" alt=\"Open In Colab\"/></a>"
      ]
    },
    {
      "cell_type": "markdown",
      "source": [
        "The code below defines an Elevator class. The elevator has a current floor, it also has a top and a bottom floor that are the minimum and maximum floors it can go to. Fill in the blanks to make the elevator go through the floors requested."
      ],
      "metadata": {
        "id": "CdTd1OTUAkZC"
      }
    },
    {
      "cell_type": "code",
      "execution_count": null,
      "metadata": {
        "id": "Ywn5TGJDAe3U"
      },
      "outputs": [],
      "source": [
        "\n",
        "class Elevator:\n",
        "    def __str__(self):\n",
        "        return \"Current floor: \"+ str(self.current)\n",
        "    def __init__(self, bottom, top, current):\n",
        "        \"\"\"Initializes the Elevator instance.\"\"\"\n",
        "        self.bottom=bottom\n",
        "        self.top=top\n",
        "        self.current=current\n",
        "        pass\n",
        "    def up(self):\n",
        "        \"\"\"Makes the elevator go up one floor.\"\"\"\n",
        "        if self.current <10 :\n",
        "            self.current+=1\n",
        "        pass\n",
        "    def down(self):\n",
        "        \"\"\"Makes the elevator go down one floor.\"\"\"\n",
        "        if self.current > -1 :\n",
        "            self.current -=1\n",
        "        \n",
        "        pass   \n",
        "    def go_to(self, floor):\n",
        "        \"\"\"Makes the elevator go to the specific floor.\"\"\"\n",
        "        if self.current > -1 and self.current <10 :\n",
        "            self.current=floor\n",
        "        pass\n",
        "\n",
        "elevator = Elevator(-1, 10, 0)"
      ]
    },
    {
      "cell_type": "markdown",
      "source": [
        "This class is pretty empty and doesn't do much. To test whether your Elevator class is working correctly, run the code blocks below"
      ],
      "metadata": {
        "id": "dCq53OEKAt9Z"
      }
    },
    {
      "cell_type": "code",
      "source": [
        "elevator.up() \n",
        "elevator.current #should output 1"
      ],
      "metadata": {
        "id": "CyW4UlfCCF5R"
      },
      "execution_count": null,
      "outputs": []
    },
    {
      "cell_type": "code",
      "source": [
        "elevator.down() \n",
        "elevator.current #should output 0"
      ],
      "metadata": {
        "id": "9zOuvveGBEXx"
      },
      "execution_count": null,
      "outputs": []
    },
    {
      "cell_type": "code",
      "source": [
        "elevator.go_to(10) \n",
        "elevator.current #should output 10"
      ],
      "metadata": {
        "id": "toPEVvsvBFRx"
      },
      "execution_count": null,
      "outputs": []
    },
    {
      "cell_type": "markdown",
      "source": [
        "If you get a NameError message, be sure to run the Elevator class definition code block first. If you get an AttributeError message, be sure to initialize self.current in your Elevator class.\n",
        "\n",
        "Once you've made the above methods output 1, 0 and 10, you've successfully coded the Elevator class and its methods. Great work!\n",
        "\n",
        "For the up and down methods, did you take into account the top and bottom floors? Keep in mind that the elevator shouldn't go above the top floor or below the bottom floor. To check that out, try the code below and verify if it's working as expected. If it's not, then go back and modify the methods so that this code behaves correctly."
      ],
      "metadata": {
        "id": "kHdYDHbtBJcw"
      }
    },
    {
      "cell_type": "code",
      "source": [
        "# Go to the top floor. Try to go up, it should stay. Then go down.\n",
        "elevator.go_to(10)\n",
        "elevator.up()\n",
        "elevator.down()\n",
        "print(elevator.current) # should be 9\n",
        "# Go to the bottom floor. Try to go down, it should stay. Then go up.\n",
        "elevator.go_to(-1)\n",
        "elevator.down()\n",
        "elevator.down()\n",
        "elevator.up()\n",
        "elevator.up()\n",
        "print(elevator.current) # should be 1"
      ],
      "metadata": {
        "id": "N2DQCypZBNWx"
      },
      "execution_count": null,
      "outputs": []
    },
    {
      "cell_type": "markdown",
      "source": [
        "Now add the str method to your Elevator class definition above so that when printing the elevator using the print( ) method, we get the current floor together with a message. For example, in the 5th floor it should say \"Current floor: 5\""
      ],
      "metadata": {
        "id": "wtRGeM2cBSsI"
      }
    },
    {
      "cell_type": "code",
      "source": [
        "elevator.go_to(5)\n",
        "print(elevator)"
      ],
      "metadata": {
        "id": "6GdqYnbhBVng"
      },
      "execution_count": null,
      "outputs": []
    }
  ]
}