{
  "nbformat": 4,
  "nbformat_minor": 0,
  "metadata": {
    "colab": {
      "provenance": [],
      "authorship_tag": "ABX9TyNQtawHK2d6GI1pT/jntTOS",
      "include_colab_link": true
    },
    "kernelspec": {
      "name": "python3",
      "display_name": "Python 3"
    },
    "language_info": {
      "name": "python"
    }
  },
  "cells": [
    {
      "cell_type": "markdown",
      "metadata": {
        "id": "view-in-github",
        "colab_type": "text"
      },
      "source": [
        "<a href=\"https://colab.research.google.com/github/luisosmx/crash-course-on-python/blob/main/Recursion.ipynb\" target=\"_parent\"><img src=\"https://colab.research.google.com/assets/colab-badge.svg\" alt=\"Open In Colab\"/></a>"
      ]
    },
    {
      "cell_type": "markdown",
      "source": [
        "Fill in the blanks to make the is_power_of function return whether the number is a power of the given base. Note: base is assumed to be a positive number. Tip: for functions that return a boolean value, you can return the result of a comparison."
      ],
      "metadata": {
        "id": "djJ2LTFcpNH3"
      }
    },
    {
      "cell_type": "code",
      "source": [
        "def is_power_of(number, base):\n",
        "  # Base case: when number is smaller than base.\n",
        "  if number < base:\n",
        "    # If number is equal to 1, it's a power (base**0).\n",
        "    return __\n",
        "\n",
        "  # Recursive case: keep dividing number by base.\n",
        "  return is_power_of(__, ___)\n",
        "\n",
        "print(is_power_of(8,2)) # Should be True\n",
        "print(is_power_of(64,4)) # Should be True\n",
        "print(is_power_of(70,10)) # Should be False"
      ],
      "metadata": {
        "id": "CWovAAAvpUpA"
      },
      "execution_count": null,
      "outputs": []
    },
    {
      "cell_type": "code",
      "source": [
        "def is_power_of(number, base):\n",
        "  # Base case: when number is smaller than base.\n",
        "  if number < base:\n",
        "    # If number is equal to 1, it's a power (base**0).\n",
        "    return number == 1\n",
        "\n",
        "  # Recursive case: keep dividing number by base.\n",
        "  return is_power_of(number/base,base)\n",
        "\n",
        "print(is_power_of(8,2)) # Should be True\n",
        "print(is_power_of(64,4)) # Should be True\n",
        "print(is_power_of(70,10)) # Should be False"
      ],
      "metadata": {
        "colab": {
          "base_uri": "https://localhost:8080/"
        },
        "id": "TrP-NP1korjn",
        "outputId": "0d00ea6b-3b6b-4f15-b47d-a2cf73829feb"
      },
      "execution_count": 3,
      "outputs": [
        {
          "output_type": "stream",
          "name": "stdout",
          "text": [
            "True\n",
            "True\n",
            "False\n"
          ]
        }
      ]
    }
  ]
}