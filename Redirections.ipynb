{
  "nbformat": 4,
  "nbformat_minor": 0,
  "metadata": {
    "colab": {
      "provenance": [],
      "authorship_tag": "ABX9TyOA/wSSV6sep+Umk8JE7Rmn",
      "include_colab_link": true
    },
    "kernelspec": {
      "name": "python3",
      "display_name": "Python 3"
    },
    "language_info": {
      "name": "python"
    }
  },
  "cells": [
    {
      "cell_type": "markdown",
      "metadata": {
        "id": "view-in-github",
        "colab_type": "text"
      },
      "source": [
        "<a href=\"https://colab.research.google.com/github/luisosmx/crash-course-on-python/blob/main/Redirections.ipynb\" target=\"_parent\"><img src=\"https://colab.research.google.com/assets/colab-badge.svg\" alt=\"Open In Colab\"/></a>"
      ]
    },
    {
      "cell_type": "markdown",
      "source": [
        "##Redirections, Pipes and Signals"
      ],
      "metadata": {
        "id": "-UTDSFdW2Z3T"
      }
    },
    {
      "cell_type": "markdown",
      "source": [
        "#Managing streams\n",
        "\n",
        "These are the redirectors that we can use to take control of the streams of our programs \n",
        "\n",
        "+ command > file: redirects standard output, overwrites file\n",
        "\n",
        "+ command >> file: redirects standard output, appends to file\n",
        "\n",
        "+ command < file: redirects standard input from file\n",
        "\n",
        "+ command 2> file: redirects standard error to file\n",
        "\n",
        "+ command1 | command2: connects the output of command1 to the input of command2\n",
        "\n",
        "#Operating with processes\n",
        "\n",
        "These are some commands that are useful to know in Linux when interacting with processes. Not all of them are explained in videos, so feel free to investigate them on your own.\n",
        "\n",
        "+ ps: lists the processes executing in the current terminal for the current user\n",
        "\n",
        "+ ps ax: lists all processes currently executing for all users  \n",
        "\n",
        "+ ps e: shows the environment for the processes listed  \n",
        "\n",
        "+ kill PID: sends the SIGTERM signal to the process identified by PID\n",
        "\n",
        "+ fg: causes a job that was stopped or in the background to return to the foreground\n",
        "\n",
        "+ bg: causes a job that was stopped to go to the background\n",
        "\n",
        "+ jobs: lists the jobs currently running or stopped\n",
        "\n",
        "+ top: shows the processes currently using the most CPU time (press \"q\" to quit)  \n",
        "\n"
      ],
      "metadata": {
        "id": "U24SZeL82dGy"
      }
    },
    {
      "cell_type": "code",
      "execution_count": null,
      "metadata": {
        "id": "8uwSZsVM2Xni"
      },
      "outputs": [],
      "source": []
    }
  ]
}