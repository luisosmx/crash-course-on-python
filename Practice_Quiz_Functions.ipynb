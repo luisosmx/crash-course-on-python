{
  "nbformat": 4,
  "nbformat_minor": 0,
  "metadata": {
    "colab": {
      "provenance": [],
      "authorship_tag": "ABX9TyNVIQdX5JixX2Mzs9oHeE3A",
      "include_colab_link": true
    },
    "kernelspec": {
      "name": "python3",
      "display_name": "Python 3"
    },
    "language_info": {
      "name": "python"
    }
  },
  "cells": [
    {
      "cell_type": "markdown",
      "metadata": {
        "id": "view-in-github",
        "colab_type": "text"
      },
      "source": [
        "<a href=\"https://colab.research.google.com/github/luisosmx/crash-course-on-python/blob/main/Practice_Quiz_Functions.ipynb\" target=\"_parent\"><img src=\"https://colab.research.google.com/assets/colab-badge.svg\" alt=\"Open In Colab\"/></a>"
      ]
    },
    {
      "cell_type": "markdown",
      "source": [
        "# Question 1\n",
        "This function converts miles to kilometers (km).\n",
        "\n",
        "1. Complete the function to return the result of the conversion\n",
        "\n",
        "2. Call the function to convert the trip distance from miles to kilometers\n",
        "\n",
        "3. Fill in the blank to print the result of the conversion\n",
        "\n",
        "4. Calculate the round-trip in kilometers by doubling the result, and fill in the blank to print the result"
      ],
      "metadata": {
        "id": "IxKePz9UxInG"
      }
    },
    {
      "cell_type": "code",
      "execution_count": null,
      "metadata": {
        "colab": {
          "base_uri": "https://localhost:8080/"
        },
        "id": "RpAYiS8qw37K",
        "outputId": "59316f58-7c98-4752-bdc9-82d077e5632d"
      },
      "outputs": [
        {
          "output_type": "stream",
          "name": "stdout",
          "text": [
            "The distance in kilometers is 88.0\n"
          ]
        }
      ],
      "source": [
        "# 1) Complete the function to return the result of the conversion\n",
        "def convert_distance(miles):\n",
        "\tkm = miles * 1.6  # approximately 1.6 km in 1 mile\n",
        "\treturn km\n",
        "\n",
        "my_trip_miles = 55\n",
        "\n",
        "# 2) Convert my_trip_miles to kilometers by calling the function above\n",
        "my_trip_km = convert_distance(my_trip_miles)\n",
        "\n",
        "# 3) Fill in the blank to print the result of the conversion\n",
        "print(\"The distance in kilometers is \" + str(my_trip_km))\n",
        "\n",
        "# 4) Calculate the round-trip in kilometers by doubling the result,\n",
        "#    and fill in the blank to print the result\n",
        "#print(\"The round-trip in kilometers is \" + my_trip_km*2)"
      ]
    },
    {
      "cell_type": "code",
      "source": [],
      "metadata": {
        "id": "615b4OKuznVU"
      },
      "execution_count": null,
      "outputs": []
    },
    {
      "cell_type": "markdown",
      "source": [
        "# Question 2 \n",
        "The is_positive function should return True if the number received is positive, otherwise it returns None. Can you fill in the gaps to make that happen?"
      ],
      "metadata": {
        "id": "6f7KRV4seQWv"
      }
    },
    {
      "cell_type": "code",
      "source": [
        "def is_positive(number):\n",
        "  if number > 0:\n",
        "    return True"
      ],
      "metadata": {
        "id": "ec87fXZeeU1v"
      },
      "execution_count": 3,
      "outputs": []
    },
    {
      "cell_type": "markdown",
      "source": [
        "# Question 3 \n",
        "The is_positive function should return True if the number received is positive and False if it isn't. Can you fill in the gaps to make that happen?"
      ],
      "metadata": {
        "id": "3n6QM951e_V_"
      }
    },
    {
      "cell_type": "code",
      "source": [
        "def is_positive(number):\n",
        "  if number > 0:\n",
        "    return True\n",
        "  else:\n",
        "    return False\n"
      ],
      "metadata": {
        "id": "uW2VKcK5fAZv"
      },
      "execution_count": null,
      "outputs": []
    },
    {
      "cell_type": "markdown",
      "source": [
        "# Question 4\n",
        "What’s the output of this code if number equals 10?\n",
        "\n"
      ],
      "metadata": {
        "id": "iY4OoEvjwFoG"
      }
    },
    {
      "cell_type": "code",
      "source": [
        "number=16\n",
        "if number > 11: \n",
        "  print(0)\n",
        "elif number != 10:\n",
        "  print(1)\n",
        "elif number >= 20 or number < 12:\n",
        "  print(2)\n",
        "else:\n",
        "  print(3)"
      ],
      "metadata": {
        "colab": {
          "base_uri": "https://localhost:8080/"
        },
        "id": "4TMNHOIxwGaH",
        "outputId": "44c2bc09-b362-49ef-ff76-ada61bec5216"
      },
      "execution_count": 2,
      "outputs": [
        {
          "output_type": "stream",
          "name": "stdout",
          "text": [
            "0\n"
          ]
        }
      ]
    },
    {
      "cell_type": "markdown",
      "source": [
        "# Question 5\n",
        "Question 5\n",
        "If a filesystem has a block size of 4096 bytes, this means that a file comprised of only one byte will still use 4096 bytes of storage. A file made up of 4097 bytes will use 4096*2=8192 bytes of storage. Knowing this, can you fill in the gaps in the calculate_storage function below, which calculates the total number of bytes needed to store a file of a given size?"
      ],
      "metadata": {
        "id": "UHtYsKc542Ae"
      }
    },
    {
      "cell_type": "code",
      "source": [
        "def calculate_storage(filesize):\n",
        "    print(\"-------\")\n",
        "    print(f\"filesize={filesize}\")\n",
        "    block_size = 4096\n",
        "    # Use floor division to calculate how many blocks are fully occupied\n",
        "    full_blocks = block_size * 2\n",
        "    print(f\"full_blocks={full_blocks}\")\n",
        "    # Use the modulo operator to check whether there's any remainder\n",
        "    partial_block_remainder = block_size % filesize\n",
        "    print(f\"partial_block_remainder={partial_block_remainder}\")\n",
        "    # Depending on whether there's a remainder or not, return\n",
        "    # the total number of bytes required to allocate enough blocks\n",
        "    # to store your data.\n",
        "    if partial_block_remainder > 0:\n",
        "        print(\"return full_blocks\")\n",
        "        return full_blocks\n",
        "    print(\"return block_size\")\n",
        "    return block_size\n",
        "\n",
        "print(calculate_storage(1))    # Should be 4096\n",
        "print(calculate_storage(4096)) # Should be 4096\n",
        "print(calculate_storage(4097)) # Should be 8192\n",
        "print(calculate_storage(6000)) # Should be 8192"
      ],
      "metadata": {
        "colab": {
          "base_uri": "https://localhost:8080/"
        },
        "id": "csB1n7es4-4H",
        "outputId": "ba0ef4f2-0522-4f90-fea5-c416132ee494"
      },
      "execution_count": 9,
      "outputs": [
        {
          "output_type": "stream",
          "name": "stdout",
          "text": [
            "-------\n",
            "filesize=1\n",
            "full_blocks=8192\n",
            "partial_block_remainder=0\n",
            "return block_size\n",
            "4096\n",
            "-------\n",
            "filesize=4096\n",
            "full_blocks=8192\n",
            "partial_block_remainder=0\n",
            "return block_size\n",
            "4096\n",
            "-------\n",
            "filesize=4097\n",
            "full_blocks=8192\n",
            "partial_block_remainder=4096\n",
            "return full_blocks\n",
            "8192\n",
            "-------\n",
            "filesize=6000\n",
            "full_blocks=8192\n",
            "partial_block_remainder=4096\n",
            "return full_blocks\n",
            "8192\n"
          ]
        }
      ]
    }
  ]
}