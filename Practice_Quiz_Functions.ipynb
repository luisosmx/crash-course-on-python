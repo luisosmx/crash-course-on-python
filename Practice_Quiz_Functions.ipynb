{
  "nbformat": 4,
  "nbformat_minor": 0,
  "metadata": {
    "colab": {
      "provenance": [],
      "authorship_tag": "ABX9TyPlWO3NBs1G3rpAvC+LS2nR",
      "include_colab_link": true
    },
    "kernelspec": {
      "name": "python3",
      "display_name": "Python 3"
    },
    "language_info": {
      "name": "python"
    }
  },
  "cells": [
    {
      "cell_type": "markdown",
      "metadata": {
        "id": "view-in-github",
        "colab_type": "text"
      },
      "source": [
        "<a href=\"https://colab.research.google.com/github/luisosmx/crash-course-on-python/blob/main/Practice_Quiz_Functions.ipynb\" target=\"_parent\"><img src=\"https://colab.research.google.com/assets/colab-badge.svg\" alt=\"Open In Colab\"/></a>"
      ]
    },
    {
      "cell_type": "markdown",
      "source": [
        "# Question 1\n",
        "This function converts miles to kilometers (km).\n",
        "\n",
        "1. Complete the function to return the result of the conversion\n",
        "\n",
        "2. Call the function to convert the trip distance from miles to kilometers\n",
        "\n",
        "3. Fill in the blank to print the result of the conversion\n",
        "\n",
        "4. Calculate the round-trip in kilometers by doubling the result, and fill in the blank to print the result"
      ],
      "metadata": {
        "id": "IxKePz9UxInG"
      }
    },
    {
      "cell_type": "code",
      "execution_count": null,
      "metadata": {
        "colab": {
          "base_uri": "https://localhost:8080/"
        },
        "id": "RpAYiS8qw37K",
        "outputId": "59316f58-7c98-4752-bdc9-82d077e5632d"
      },
      "outputs": [
        {
          "output_type": "stream",
          "name": "stdout",
          "text": [
            "The distance in kilometers is 88.0\n"
          ]
        }
      ],
      "source": [
        "# 1) Complete the function to return the result of the conversion\n",
        "def convert_distance(miles):\n",
        "\tkm = miles * 1.6  # approximately 1.6 km in 1 mile\n",
        "\treturn km\n",
        "\n",
        "my_trip_miles = 55\n",
        "\n",
        "# 2) Convert my_trip_miles to kilometers by calling the function above\n",
        "my_trip_km = convert_distance(my_trip_miles)\n",
        "\n",
        "# 3) Fill in the blank to print the result of the conversion\n",
        "print(\"The distance in kilometers is \" + str(my_trip_km))\n",
        "\n",
        "# 4) Calculate the round-trip in kilometers by doubling the result,\n",
        "#    and fill in the blank to print the result\n",
        "#print(\"The round-trip in kilometers is \" + my_trip_km*2)"
      ]
    },
    {
      "cell_type": "code",
      "source": [
        "!ssh-keygen -t rsa -C \"luis.osmx16@gmail.com\""
      ],
      "metadata": {
        "colab": {
          "base_uri": "https://localhost:8080/"
        },
        "id": "mWZSjuF2zXqd",
        "outputId": "e2693168-417e-4b31-86ab-25f0ca8d3450"
      },
      "execution_count": null,
      "outputs": [
        {
          "output_type": "stream",
          "name": "stdout",
          "text": [
            "Generating public/private rsa key pair.\n",
            "Enter file in which to save the key (/root/.ssh/id_rsa): clave\n",
            "Enter passphrase (empty for no passphrase): clave\n",
            "Enter same passphrase again: clave\n",
            "Your identification has been saved in clave.\n",
            "Your public key has been saved in clave.pub.\n",
            "The key fingerprint is:\n",
            "SHA256:kMflvLMzCuZ5YZl8JLKXhD41qM50Zt5+x2WDP7VKgOo luis.osmx16@gmail.com\n",
            "The key's randomart image is:\n",
            "+---[RSA 2048]----+\n",
            "|          .      |\n",
            "|       o +       |\n",
            "|      ooo o      |\n",
            "|      +o= o.     |\n",
            "|     o *SOo. .   |\n",
            "|    o B X .oo + .|\n",
            "|   + =o* o+. = o.|\n",
            "|    ooooo..o+ o. |\n",
            "|      oEo. . ... |\n",
            "+----[SHA256]-----+\n"
          ]
        }
      ]
    },
    {
      "cell_type": "code",
      "source": [
        "!cat /content/clave.pub"
      ],
      "metadata": {
        "colab": {
          "base_uri": "https://localhost:8080/"
        },
        "id": "BuIuDuflzele",
        "outputId": "7e94d9ac-b714-4527-d45b-9b028fc89c30"
      },
      "execution_count": null,
      "outputs": [
        {
          "output_type": "stream",
          "name": "stdout",
          "text": [
            "ssh-rsa AAAAB3NzaC1yc2EAAAADAQABAAABAQC+afEP3EK7jOH5SEGqBSnAhn6mwkbUbwlrlwSubebGnIhU5YcfYcAdbc7sVoZBlpg9jwx4HBNAhOn+l9IS3lI3e1ti2a+FlyR2qloY0fupXHQmD3FkvV5/n8tlYkugNrS/sigsigRKQP9FtXJfbtpXBZF+VNadtIr5Dgr4Urhl6zTyWu+cHAL0nKBZcT+D5fOVuZ2qKqGMFgERlQyC6Di3/RdfUzUOqcLOWMN8xdemLVcMbpShYz8zGtTM0wPPmggJfu2+KSBkyiN/vvvMFTg7yjxVIg0grC4wRYTmGIdJvJ+f6OLHBnQcbI0KwP+iqSXlhb7pKnerEeAO6py7bYyZ luis.osmx16@gmail.com\n"
          ]
        }
      ]
    },
    {
      "cell_type": "code",
      "source": [],
      "metadata": {
        "id": "615b4OKuznVU"
      },
      "execution_count": null,
      "outputs": []
    }
  ]
}