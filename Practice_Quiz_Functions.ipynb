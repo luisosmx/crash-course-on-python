{
  "nbformat": 4,
  "nbformat_minor": 0,
  "metadata": {
    "colab": {
      "provenance": [],
      "authorship_tag": "ABX9TyOI+7QOrnJ17RetOisoxOCP",
      "include_colab_link": true
    },
    "kernelspec": {
      "name": "python3",
      "display_name": "Python 3"
    },
    "language_info": {
      "name": "python"
    }
  },
  "cells": [
    {
      "cell_type": "markdown",
      "metadata": {
        "id": "view-in-github",
        "colab_type": "text"
      },
      "source": [
        "<a href=\"https://colab.research.google.com/github/luisosmx/crash-course-on-python/blob/main/Practice_Quiz_Functions.ipynb\" target=\"_parent\"><img src=\"https://colab.research.google.com/assets/colab-badge.svg\" alt=\"Open In Colab\"/></a>"
      ]
    },
    {
      "cell_type": "markdown",
      "source": [
        "# Question 1\n",
        "This function converts miles to kilometers (km).\n",
        "\n",
        "1. Complete the function to return the result of the conversion\n",
        "\n",
        "2. Call the function to convert the trip distance from miles to kilometers\n",
        "\n",
        "3. Fill in the blank to print the result of the conversion\n",
        "\n",
        "4. Calculate the round-trip in kilometers by doubling the result, and fill in the blank to print the result"
      ],
      "metadata": {
        "id": "IxKePz9UxInG"
      }
    },
    {
      "cell_type": "code",
      "execution_count": 11,
      "metadata": {
        "colab": {
          "base_uri": "https://localhost:8080/"
        },
        "id": "RpAYiS8qw37K",
        "outputId": "59efd17d-2498-499d-8c8c-8d99f6f4384a"
      },
      "outputs": [
        {
          "output_type": "stream",
          "name": "stdout",
          "text": [
            "The distance in kilometers is 88.0\n",
            "my_trip_km_double=176.0\n",
            "The round-trip in kilometers is 176.0\n",
            "The round-trip in kilometers is 176.0\n"
          ]
        }
      ],
      "source": [
        "# 1) Complete the function to return the result of the conversion\n",
        "def convert_distance(miles):\n",
        "\tkm = miles * 1.6  # approximately 1.6 km in 1 mile\n",
        "\treturn km\n",
        "\n",
        "my_trip_miles = 55\n",
        "\n",
        "# 2) Convert my_trip_miles to kilometers by calling the function above\n",
        "my_trip_km = convert_distance(my_trip_miles)\n",
        "\n",
        "# 3) Fill in the blank to print the result of the conversion\n",
        "print(\"The distance in kilometers is \" + str(my_trip_km))\n",
        "\n",
        "# 4) Calculate the round-trip in kilometers by doubling the result,\n",
        "#    and fill in the blank to print the result\n",
        "my_trip_km_double = my_trip_km * 2\n",
        "print(f\"my_trip_km_double={my_trip_km_double}\")\n",
        "# print(\"The round-trip in kilometers is \" + str(my_trip_km_double)) # Option 1\n",
        "# print(\"The round-trip in kilometers is \" + str(my_trip_km*2)) # Option 2\n",
        "print(f\"The round-trip in kilometers is {my_trip_km*2}\") # Option 3"
      ]
    }
  ]
}