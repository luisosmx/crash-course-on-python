{
  "nbformat": 4,
  "nbformat_minor": 0,
  "metadata": {
    "colab": {
      "provenance": [],
      "authorship_tag": "ABX9TyNghGb8+N/kUzjVbJq3tPHe",
      "include_colab_link": true
    },
    "kernelspec": {
      "name": "python3",
      "display_name": "Python 3"
    },
    "language_info": {
      "name": "python"
    }
  },
  "cells": [
    {
      "cell_type": "markdown",
      "metadata": {
        "id": "view-in-github",
        "colab_type": "text"
      },
      "source": [
        "<a href=\"https://colab.research.google.com/github/luisosmx/crash-course-on-python/blob/main/Markdown.ipynb\" target=\"_parent\"><img src=\"https://colab.research.google.com/assets/colab-badge.svg\" alt=\"Open In Colab\"/></a>"
      ]
    },
    {
      "cell_type": "markdown",
      "source": [
        "**String Reference Cheat Sheet**\n",
        "\n",
        "In Python, there are a lot of things you can do with strings. In this cheat sheet, you’ll find the most common string operations and string methods.\n",
        "\n",
        "***String operations***\n",
        "\n",
        "**len(string)** - Returns the length of the string\n",
        "\n",
        "**for character in string** - Iterates over each character in the string\n",
        "\n",
        "**if substring in string** - Checks whether the substring is part of the string\n",
        "\n",
        "**string[i]** - Accesses the character at index i of the string, starting at zero\n",
        "\n",
        "**string[i:j]** - Accesses the substring starting at index i, ending at index j minus 1. If i is omitted, its value defaults to 0. If j is omitted, the value will default to **len(string)**.\n",
        "\n",
        "***String methods***\n",
        "\n",
        "**string.lower()** - Returns a copy of the string with all lowercase characters\n",
        "\n",
        "**string.upper()** - Returns a copy of the string with all uppercase characters\n",
        "\n",
        "**string.lstrip()** - Returns a copy of the string with the left-side whitespace removed\n",
        "\n",
        "**string.rstrip()** - Returns a copy of the string with the right-side whitespace removed\n",
        "\n",
        "**string.strip()** - Returns a copy of the string with both the left and right-side whitespace removed\n",
        "\n",
        "**string.count(substring)** - Returns the number of times substring is present in the string\n",
        "\n",
        "**string.isnumeric()** - Returns True if there are only numeric characters in the string. If not, returns False.\n",
        "\n",
        "**string.isalpha()** - Returns True if there are only alphabetic characters in the string. If not, returns False.\n",
        "\n",
        "**string.split()** - Returns a list of substrings that were separated by whitespace (whitespace can be a space, tab, or new line)\n",
        "\n",
        "**string.split(delimiter)** - Returns a list of substrings that were separated by whitespace or a delimiter\n",
        "\n",
        "**string.replace(old, new)** - Returns a new string where all occurrences of old have been replaced by new.\n",
        "\n",
        "**delimiter.join(list of strings)** - Returns a new string with all the strings joined by the delimiter "
      ],
      "metadata": {
        "id": "4HFjoz7kaM1-"
      }
    },
    {
      "cell_type": "code",
      "execution_count": null,
      "metadata": {
        "id": "Y9Z3CwZeaG4w"
      },
      "outputs": [],
      "source": []
    }
  ]
}