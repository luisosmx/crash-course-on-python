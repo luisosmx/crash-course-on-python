{
  "nbformat": 4,
  "nbformat_minor": 0,
  "metadata": {
    "colab": {
      "provenance": [],
      "authorship_tag": "ABX9TyMx5dZlSGkd6xzxzmv6Trri",
      "include_colab_link": true
    },
    "kernelspec": {
      "name": "python3",
      "display_name": "Python 3"
    },
    "language_info": {
      "name": "python"
    }
  },
  "cells": [
    {
      "cell_type": "markdown",
      "metadata": {
        "id": "view-in-github",
        "colab_type": "text"
      },
      "source": [
        "<a href=\"https://colab.research.google.com/github/luisosmx/crash-course-on-python/blob/main/Scale_and_convert_images_using_PIL.ipynb\" target=\"_parent\"><img src=\"https://colab.research.google.com/assets/colab-badge.svg\" alt=\"Open In Colab\"/></a>"
      ]
    },
    {
      "cell_type": "code",
      "execution_count": null,
      "metadata": {
        "id": "IiY_tOGJaXjX"
      },
      "outputs": [],
      "source": [
        "#!/usr/bin/env python3\n",
        "from PIL import Image\n",
        "import os\n",
        "\n",
        "directory = \"images/\"\n",
        "output_directory = \"/opt/icons/\"\n",
        "\n",
        "#The for loop to correct the badly formatted images.\n",
        "for filename in os.listdir(directory):\n",
        "    if filename != \".DS_Store\":\n",
        "        im = Image.open(os.path.join(directory, filename))\n",
        "        im = im.rotate(-90)\n",
        "        im = im.resize((128,128))\n",
        "        im = im.convert(\"RGB\")\n",
        "        im.save(os.path.join(output_directory, filename+\".jpeg\"))\n"
      ]
    }
  ]
}