{
  "nbformat": 4,
  "nbformat_minor": 0,
  "metadata": {
    "colab": {
      "provenance": [],
      "authorship_tag": "ABX9TyMmUh2uBJIefR1qqGOSIJwK",
      "include_colab_link": true
    },
    "kernelspec": {
      "name": "python3",
      "display_name": "Python 3"
    },
    "language_info": {
      "name": "python"
    }
  },
  "cells": [
    {
      "cell_type": "markdown",
      "metadata": {
        "id": "view-in-github",
        "colab_type": "text"
      },
      "source": [
        "<a href=\"https://colab.research.google.com/github/luisosmx/crash-course-on-python/blob/main/RepetitionQualifiers.ipynb\" target=\"_parent\"><img src=\"https://colab.research.google.com/assets/colab-badge.svg\" alt=\"Open In Colab\"/></a>"
      ]
    },
    {
      "cell_type": "markdown",
      "source": [
        "The repeating_letter_a function checks if the text passed includes the letter \"a\" (lowercase or uppercase) at least twice. For example, repeating_letter_a(\"banana\") is True, while repeating_letter_a(\"pineapple\") is False. Fill in the code to make this work. "
      ],
      "metadata": {
        "id": "t9LZgYTDAK1K"
      }
    },
    {
      "cell_type": "code",
      "execution_count": 1,
      "metadata": {
        "colab": {
          "base_uri": "https://localhost:8080/"
        },
        "id": "XdMi9HFxAJbM",
        "outputId": "4ee02853-4649-4c67-97e8-8c3b9375e9c5"
      },
      "outputs": [
        {
          "output_type": "stream",
          "name": "stdout",
          "text": [
            "True\n",
            "False\n",
            "True\n",
            "True\n"
          ]
        }
      ],
      "source": [
        "import re\n",
        "def repeating_letter_a(text):\n",
        "  result = re.search(r\"[Aa].*a\", text)\n",
        "  return result != None\n",
        "\n",
        "print(repeating_letter_a(\"banana\")) # True\n",
        "print(repeating_letter_a(\"pineapple\")) # False\n",
        "print(repeating_letter_a(\"Animal Kingdom\")) # True\n",
        "print(repeating_letter_a(\"A is for apple\")) # True"
      ]
    }
  ]
}