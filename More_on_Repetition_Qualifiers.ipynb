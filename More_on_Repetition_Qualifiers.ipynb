{
  "nbformat": 4,
  "nbformat_minor": 0,
  "metadata": {
    "colab": {
      "provenance": [],
      "authorship_tag": "ABX9TyNrxJSNsUagRMmWcI7qUWBX",
      "include_colab_link": true
    },
    "kernelspec": {
      "name": "python3",
      "display_name": "Python 3"
    },
    "language_info": {
      "name": "python"
    }
  },
  "cells": [
    {
      "cell_type": "markdown",
      "metadata": {
        "id": "view-in-github",
        "colab_type": "text"
      },
      "source": [
        "<a href=\"https://colab.research.google.com/github/luisosmx/crash-course-on-python/blob/main/More_on_Repetition_Qualifiers.ipynb\" target=\"_parent\"><img src=\"https://colab.research.google.com/assets/colab-badge.svg\" alt=\"Open In Colab\"/></a>"
      ]
    },
    {
      "cell_type": "markdown",
      "source": [
        "The long_words function returns all words that are at least 7 characters. Fill in the regular expression to complete this function."
      ],
      "metadata": {
        "id": "9J9ZQ4WIpYUl"
      }
    },
    {
      "cell_type": "code",
      "execution_count": 1,
      "metadata": {
        "colab": {
          "base_uri": "https://localhost:8080/"
        },
        "id": "-Kb73rEBpXTH",
        "outputId": "6e7fd6bc-c792-4ec4-d21c-15432d605864"
      },
      "outputs": [
        {
          "output_type": "stream",
          "name": "stdout",
          "text": [
            "['morning']\n",
            "['chocolate', 'afternoon']\n",
            "[]\n"
          ]
        }
      ],
      "source": [
        "import re\n",
        "def long_words(text):\n",
        "  pattern = r\"\\w{7,}\"\n",
        "  result = re.findall(pattern, text)\n",
        "  return result\n",
        "\n",
        "print(long_words(\"I like to drink coffee in the morning.\")) # ['morning']\n",
        "print(long_words(\"I also have a taste for hot chocolate in the afternoon.\")) # ['chocolate', 'afternoon']\n",
        "print(long_words(\"I never drink tea late at night.\")) # []"
      ]
    },
    {
      "cell_type": "code",
      "source": [],
      "metadata": {
        "id": "RrRE2iGJpc9G"
      },
      "execution_count": null,
      "outputs": []
    }
  ]
}