{
  "nbformat": 4,
  "nbformat_minor": 0,
  "metadata": {
    "colab": {
      "provenance": [],
      "authorship_tag": "ABX9TyMFQ7Bh4vb96nrCxgpIGIUx",
      "include_colab_link": true
    },
    "kernelspec": {
      "name": "python3",
      "display_name": "Python 3"
    },
    "language_info": {
      "name": "python"
    }
  },
  "cells": [
    {
      "cell_type": "markdown",
      "metadata": {
        "id": "view-in-github",
        "colab_type": "text"
      },
      "source": [
        "<a href=\"https://colab.research.google.com/github/luisosmx/crash-course-on-python/blob/main/python_exercises.ipynb\" target=\"_parent\"><img src=\"https://colab.research.google.com/assets/colab-badge.svg\" alt=\"Open In Colab\"/></a>"
      ]
    },
    {
      "cell_type": "markdown",
      "source": [
        "1. Write a Python program to print the following string in a specific format (see the output). Go to the editor\n",
        "Sample String : \"Twinkle, twinkle, little star, How I wonder what you are! Up above the world so high, Like a diamond in the sky. Twinkle, twinkle, little star, How I wonder what you are\" \n",
        "\n",
        ">Output :\n",
        "\n",
        "\n",
        "> ```\n",
        "Twinkle, twinkle, little star,\n",
        "\tHow I wonder what you are! \n",
        "\t\tUp above the world so high,   \t\t\n",
        "\t\tLike a diamond in the sky. \n",
        "Twinkle, twinkle, little star, \n",
        "\tHow I wonder what you are \n",
        "```\n",
        "\n",
        "\n",
        "\n",
        "\n"
      ],
      "metadata": {
        "id": "SvvSteoqSnAs"
      }
    },
    {
      "cell_type": "code",
      "source": [
        "frase1 = \"Twinkle, twinkle, little star\" \n",
        "frase2 = \"How I wonder what you are!\"\n",
        "frase3 = \"Up above the world so high\"\n",
        "frase4 = \"Like a diamond in the sky.\"\n",
        "frase5 = \"Twinkle, twinkle, little star\"\n",
        "frase6 = \"How I wonder what you are\"\n",
        "\n",
        "print(frase1, frase2)"
      ],
      "metadata": {
        "colab": {
          "base_uri": "https://localhost:8080/"
        },
        "id": "pVviQvp8Su6j",
        "outputId": "82aab3a0-d629-40fb-e7f7-eac44c5956fe"
      },
      "execution_count": 25,
      "outputs": [
        {
          "output_type": "stream",
          "name": "stdout",
          "text": [
            "Twinkle, twinkle, little star How I wonder what you are!\n"
          ]
        }
      ]
    },
    {
      "cell_type": "code",
      "source": [
        "print('{}{}{}{}{}{}{}{}{}{}{}{}{}{}{}{}{}'.format(frase1, '\\n', '\\t', frase2, '\\n', '\\t', '\\t', frase3, '\\n', '\\t', '\\t', frase4, '\\n', frase5, '\\n', '\\t', frase6))"
      ],
      "metadata": {
        "colab": {
          "base_uri": "https://localhost:8080/"
        },
        "id": "CMzGctQAVMO-",
        "outputId": "2b87f964-7658-4d5b-83d6-c7f6806dd59d"
      },
      "execution_count": 29,
      "outputs": [
        {
          "output_type": "stream",
          "name": "stdout",
          "text": [
            "Twinkle, twinkle, little star\n",
            "\tHow I wonder what you are!\n",
            "\t\tUp above the world so high\n",
            "\t\tLike a diamond in the sky.\n",
            "Twinkle, twinkle, little star\n",
            "\tHow I wonder what you are\n"
          ]
        }
      ]
    },
    {
      "cell_type": "markdown",
      "source": [
        "* Use this when you want to add a line in the code: `'\\n'`\n",
        "\n",
        "* Use this when you want to add a tab in the code: `'\\t'`\n",
        "\n",
        "* Every time an element is added to the code, the following should be added: `{}`\n",
        "\n",
        "\n",
        "\n",
        "\n"
      ],
      "metadata": {
        "id": "gSatGdWQbQEs"
      }
    },
    {
      "cell_type": "code",
      "source": [
        "print(\"Twinkle, twinkle, little star, \\n\\tHow I wonder what you are! \\n\\t\\tUp above the world so high, \\n\\t\\tLike a diamond in the sky. \\nTwinkle, twinkle, little star, \\n\\tHow I wonder what you are!\")\n",
        "\n"
      ],
      "metadata": {
        "colab": {
          "base_uri": "https://localhost:8080/"
        },
        "id": "UTzlGBLuWWNL",
        "outputId": "0ffaf8b5-ff9f-4ead-ec91-90673fac7a38"
      },
      "execution_count": 30,
      "outputs": [
        {
          "output_type": "stream",
          "name": "stdout",
          "text": [
            "Twinkle, twinkle, little star, \n",
            "\tHow I wonder what you are! \n",
            "\t\tUp above the world so high, \n",
            "\t\tLike a diamond in the sky. \n",
            "Twinkle, twinkle, little star, \n",
            "\tHow I wonder what you are!\n"
          ]
        }
      ]
    },
    {
      "cell_type": "markdown",
      "source": [
        "The previous code is another way to solve this problem"
      ],
      "metadata": {
        "id": "KRmbpO_mfgNo"
      }
    },
    {
      "cell_type": "markdown",
      "source": [
        "2. Write a Python program to find out what version of Python you are using."
      ],
      "metadata": {
        "id": "lCtMaTRVgrLO"
      }
    },
    {
      "cell_type": "code",
      "source": [
        "!python --version "
      ],
      "metadata": {
        "colab": {
          "base_uri": "https://localhost:8080/"
        },
        "id": "cTI-CugFfe18",
        "outputId": "6ef32ebf-eae4-4b09-85b8-eb473da849b2"
      },
      "execution_count": 4,
      "outputs": [
        {
          "output_type": "stream",
          "name": "stdout",
          "text": [
            "Python 3.8.10\n"
          ]
        }
      ]
    },
    {
      "cell_type": "markdown",
      "source": [
        "3. Write a Python program to display the current date and time.\n",
        "\n",
        ">Sample Output :\n",
        "\n",
        ">Current date and time :\n",
        "\n",
        ">2014-07-05 14:34:14\n",
        "\n",
        " \n"
      ],
      "metadata": {
        "id": "4zmmMoAmR08M"
      }
    },
    {
      "cell_type": "code",
      "source": [
        "import datetime"
      ],
      "metadata": {
        "id": "i77RUl7bROa2"
      },
      "execution_count": 2,
      "outputs": []
    },
    {
      "cell_type": "code",
      "source": [
        "utc_time = datetime.datetime.utcnow()\n",
        "utc_time.strftime(\"%Y-%m-%d %H:%M:%S\")"
      ],
      "metadata": {
        "colab": {
          "base_uri": "https://localhost:8080/",
          "height": 35
        },
        "id": "rXAJhUIIRhDb",
        "outputId": "f2f21981-1e03-4af4-9607-8118293ef64c"
      },
      "execution_count": 3,
      "outputs": [
        {
          "output_type": "execute_result",
          "data": {
            "text/plain": [
              "'2023-01-19 04:25:32'"
            ],
            "application/vnd.google.colaboratory.intrinsic+json": {
              "type": "string"
            }
          },
          "metadata": {},
          "execution_count": 3
        }
      ]
    },
    {
      "cell_type": "markdown",
      "source": [
        "\n",
        "\n",
        "*   In order to generate this code it is necessary to import the library: `datetime`\n",
        "\n",
        "\n"
      ],
      "metadata": {
        "id": "dm2NAiAgSH9z"
      }
    },
    {
      "cell_type": "code",
      "source": [],
      "metadata": {
        "id": "C7Yft0xnRmFA"
      },
      "execution_count": null,
      "outputs": []
    }
  ]
}