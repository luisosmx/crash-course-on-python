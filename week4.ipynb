{
  "nbformat": 4,
  "nbformat_minor": 0,
  "metadata": {
    "colab": {
      "provenance": [],
      "authorship_tag": "ABX9TyPNV35FRH9kcnloQrKaERtL",
      "include_colab_link": true
    },
    "kernelspec": {
      "name": "python3",
      "display_name": "Python 3"
    },
    "language_info": {
      "name": "python"
    }
  },
  "cells": [
    {
      "cell_type": "markdown",
      "metadata": {
        "id": "view-in-github",
        "colab_type": "text"
      },
      "source": [
        "<a href=\"https://colab.research.google.com/github/luisosmx/crash-course-on-python/blob/main/week4.ipynb\" target=\"_parent\"><img src=\"https://colab.research.google.com/assets/colab-badge.svg\" alt=\"Open In Colab\"/></a>"
      ]
    },
    {
      "cell_type": "markdown",
      "source": [
        "##Filtering Log Files with Regular Expressions"
      ],
      "metadata": {
        "id": "652msay7mBdj"
      }
    },
    {
      "cell_type": "markdown",
      "source": [
        "We're using the same syslog, and we want to display the date, time, and process id that's inside the square brackets. We can read each line of the syslog and pass the contents to the show_time_of_pid function. Fill in the gaps to extract the date, time, and process id from the passed line, and return this format: Jul 6 14:01:23 pid:29440."
      ],
      "metadata": {
        "id": "YTEcMsbzl2_w"
      }
    },
    {
      "cell_type": "code",
      "execution_count": 1,
      "metadata": {
        "colab": {
          "base_uri": "https://localhost:8080/"
        },
        "id": "QEOPD8pil2RO",
        "outputId": "ec79c7a0-36b1-490d-f51b-fd904867bf08"
      },
      "outputs": [
        {
          "output_type": "stream",
          "name": "stdout",
          "text": [
            "Jul 6 14:01:23 pid:29440\n",
            "Jul 6 14:02:08 pid:29187\n",
            "Jul 6 14:02:09 pid:29187\n",
            "Jul 6 14:03:01 pid:29440\n",
            "Jul 6 14:03:40 pid:29807\n",
            "Jul 6 14:04:01 pid:29440\n",
            "Jul 6 14:05:01 pid:29440\n"
          ]
        }
      ],
      "source": [
        "import re\n",
        "def show_time_of_pid(line):\n",
        "  pattern = r'^(\\w+ [0-9] [0-9]+:[0-9]+:[0-9]+) [\\w\\.]+ [\\w=]+\\[([0-9]+)\\]'\n",
        "  result = re.search(pattern, line)\n",
        "  return '{} pid:{}'.format(result[1],result[2])\n",
        "\n",
        "print(show_time_of_pid(\"Jul 6 14:01:23 computer.name CRON[29440]: USER (good_user)\")) # Jul 6 14:01:23 pid:29440\n",
        "\n",
        "print(show_time_of_pid(\"Jul 6 14:02:08 computer.name jam_tag=psim[29187]: (UUID:006)\")) # Jul 6 14:02:08 pid:29187\n",
        "\n",
        "print(show_time_of_pid(\"Jul 6 14:02:09 computer.name jam_tag=psim[29187]: (UUID:007)\")) # Jul 6 14:02:09 pid:29187\n",
        "\n",
        "print(show_time_of_pid(\"Jul 6 14:03:01 computer.name CRON[29440]: USER (naughty_user)\")) # Jul 6 14:03:01 pid:29440\n",
        "\n",
        "print(show_time_of_pid(\"Jul 6 14:03:40 computer.name cacheclient[29807]: start syncing from \\\"0xDEADBEEF\\\"\")) # Jul 6 14:03:40 pid:29807\n",
        "\n",
        "print(show_time_of_pid(\"Jul 6 14:04:01 computer.name CRON[29440]: USER (naughty_user)\")) # Jul 6 14:04:01 pid:29440\n",
        "\n",
        "print(show_time_of_pid(\"Jul 6 14:05:01 computer.name CRON[29440]: USER (naughty_user)\")) # Jul 6 14:05:01 pid:29440"
      ]
    }
  ]
}