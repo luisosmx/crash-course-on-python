{
  "nbformat": 4,
  "nbformat_minor": 0,
  "metadata": {
    "colab": {
      "provenance": [],
      "authorship_tag": "ABX9TyPc3FFCTzDyTq11B3QVqa/G",
      "include_colab_link": true
    },
    "kernelspec": {
      "name": "python3",
      "display_name": "Python 3"
    },
    "language_info": {
      "name": "python"
    }
  },
  "cells": [
    {
      "cell_type": "markdown",
      "metadata": {
        "id": "view-in-github",
        "colab_type": "text"
      },
      "source": [
        "<a href=\"https://colab.research.google.com/github/luisosmx/crash-course-on-python/blob/main/Object_oriented_programing.ipynb\" target=\"_parent\"><img src=\"https://colab.research.google.com/assets/colab-badge.svg\" alt=\"Open In Colab\"/></a>"
      ]
    },
    {
      "cell_type": "markdown",
      "source": [
        "Want to give this a go? Fill in the blanks in the code to make it print a poem."
      ],
      "metadata": {
        "id": "fOP75jrfCEHo"
      }
    },
    {
      "cell_type": "code",
      "source": [
        "class ___:\n",
        "  color = 'unknown'\n",
        "\n",
        "rose = Flower()\n",
        "rose.color = ___\n",
        "\n",
        "violet = ___\n",
        "___\n",
        "\n",
        "this_pun_is_for_you = ___\n",
        "\n",
        "print(\"Roses are {},\".format(rose.color))\n",
        "print(\"violets are {},\".format(violet.color))\n",
        "print(this_pun_is_for_you) "
      ],
      "metadata": {
        "id": "EF2zv693CIxn"
      },
      "execution_count": null,
      "outputs": []
    },
    {
      "cell_type": "code",
      "execution_count": 1,
      "metadata": {
        "colab": {
          "base_uri": "https://localhost:8080/"
        },
        "id": "6tRKlE-uBv8S",
        "outputId": "9d111603-19b2-4d24-bcd2-a87e32f9ff47"
      },
      "outputs": [
        {
          "output_type": "stream",
          "name": "stdout",
          "text": [
            "Roses are red,\n",
            "violets are blue,\n",
            "Sugar is sweet, and so are you\n"
          ]
        }
      ],
      "source": [
        "class Flower:\n",
        "  color = 'unknown'\n",
        "\n",
        "rose = Flower()\n",
        "rose.color = \"red\"\n",
        "\n",
        "violet = Flower()\n",
        "violet.color = \"blue\"\n",
        "\n",
        "this_pun_is_for_you = \"Sugar is sweet, and so are you\"\n",
        "\n",
        "print(\"Roses are {},\".format(rose.color))\n",
        "print(\"violets are {},\".format(violet.color))\n",
        "print(this_pun_is_for_you) "
      ]
    }
  ]
}