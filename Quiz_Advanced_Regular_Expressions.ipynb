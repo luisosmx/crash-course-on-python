{
  "nbformat": 4,
  "nbformat_minor": 0,
  "metadata": {
    "colab": {
      "provenance": [],
      "authorship_tag": "ABX9TyMP9eJjPaoFNYYDo23sf/Wx",
      "include_colab_link": true
    },
    "kernelspec": {
      "name": "python3",
      "display_name": "Python 3"
    },
    "language_info": {
      "name": "python"
    }
  },
  "cells": [
    {
      "cell_type": "markdown",
      "metadata": {
        "id": "view-in-github",
        "colab_type": "text"
      },
      "source": [
        "<a href=\"https://colab.research.google.com/github/luisosmx/crash-course-on-python/blob/main/Quiz_Advanced_Regular_Expressions.ipynb\" target=\"_parent\"><img src=\"https://colab.research.google.com/assets/colab-badge.svg\" alt=\"Open In Colab\"/></a>"
      ]
    },
    {
      "cell_type": "markdown",
      "source": [
        "1. We're working with a CSV file, which contains employee information. Each record has a name field, followed by a phone number field, and a role field. The phone number field contains U.S. phone numbers, and needs to be modified to the international format, with \"+1-\" in front of the phone number. Fill in the regular expression, using groups, to use the transform_record function to do that.\n",
        "\n"
      ],
      "metadata": {
        "id": "8YGjgs510R8V"
      }
    },
    {
      "cell_type": "code",
      "execution_count": 5,
      "metadata": {
        "colab": {
          "base_uri": "https://localhost:8080/"
        },
        "id": "SVAsEHC90NZl",
        "outputId": "0b37515d-56be-4ae4-aed7-0995649b44ab"
      },
      "outputs": [
        {
          "output_type": "stream",
          "name": "stdout",
          "text": [
            "Sabrina Green,+1-802-867-5309,System Administrator\n",
            "Eli Jones,+1-684-3481127,IT specialist\n",
            "Melody Daniels,+1-846-687-7436,Programmer\n",
            "Charlie Rivera,+1-698-746-3357,Web Developer\n"
          ]
        }
      ],
      "source": [
        "import re\n",
        "def transform_record(record):\n",
        "  new_record = re.sub(r',([\\d\\-]+),',r',+1-\\1,',record)\n",
        "  return new_record\n",
        "\n",
        "print(transform_record(\"Sabrina Green,802-867-5309,System Administrator\")) \n",
        "# Sabrina Green,+1-802-867-5309,System Administrator\n",
        "\n",
        "print(transform_record(\"Eli Jones,684-3481127,IT specialist\")) \n",
        "# Eli Jones,+1-684-3481127,IT specialist\n",
        "\n",
        "print(transform_record(\"Melody Daniels,846-687-7436,Programmer\")) \n",
        "# Melody Daniels,+1-846-687-7436,Programmer\n",
        "\n",
        "print(transform_record(\"Charlie Rivera,698-746-3357,Web Developer\")) \n",
        "# Charlie Rivera,+1-698-746-3357,Web Developer"
      ]
    },
    {
      "cell_type": "markdown",
      "source": [
        "2. The multi_vowel_words function returns all words with 3 or more consecutive vowels (a, e, i, o, u). Fill in the regular expression to do that.\n",
        "\n"
      ],
      "metadata": {
        "id": "ERWiknbM0sUu"
      }
    },
    {
      "cell_type": "code",
      "source": [
        "import re\n",
        "def multi_vowel_words(text):\n",
        "  pattern = r'\\w*(?:a|e|i|o|u){3,}\\w*'\n",
        "  result = re.findall(pattern, text)\n",
        "  return result\n",
        "\n",
        "print(multi_vowel_words(\"Life is beautiful\")) \n",
        "# ['beautiful']\n",
        "\n",
        "print(multi_vowel_words(\"Obviously, the queen is courageous and gracious.\")) \n",
        "# ['Obviously', 'queen', 'courageous', 'gracious']\n",
        "\n",
        "print(multi_vowel_words(\"The rambunctious children had to sit quietly and await their delicious dinner.\")) \n",
        "# ['rambunctious', 'quietly', 'delicious']\n",
        "\n",
        "print(multi_vowel_words(\"The order of a data queue is First In First Out (FIFO)\")) \n",
        "# ['queue']\n",
        "\n",
        "print(multi_vowel_words(\"Hello world!\")) \n",
        "# []"
      ],
      "metadata": {
        "colab": {
          "base_uri": "https://localhost:8080/"
        },
        "id": "QpgynBoM0Z_2",
        "outputId": "08d9fa30-79e0-42ba-bed4-2221eda60043"
      },
      "execution_count": 6,
      "outputs": [
        {
          "output_type": "stream",
          "name": "stdout",
          "text": [
            "['beautiful']\n",
            "['Obviously', 'queen', 'courageous', 'gracious']\n",
            "['rambunctious', 'quietly', 'delicious']\n",
            "['queue']\n",
            "[]\n"
          ]
        }
      ]
    },
    {
      "cell_type": "markdown",
      "source": [
        "3. When capturing regex groups, what datatype does the groups method return?\n",
        "\n",
        "\n",
        "- A tuple"
      ],
      "metadata": {
        "id": "ktZC6Zqp24Bz"
      }
    },
    {
      "cell_type": "markdown",
      "source": [
        "4. The transform_comments function converts comments in a Python script into those usable by a C compiler. This means looking for text that begins with a hash mark (#) and replacing it with double slashes (//), which is the C single-line comment indicator. For the purpose of this exercise, we'll ignore the possibility of a hash mark embedded inside of a Python command, and assume that it's only used to indicate a comment. We also want to treat repetitive hash marks (##), (###), etc., as a single comment indicator, to be replaced with just (//) and not (#//) or (//#). Fill in the parameters of the substitution method to complete this function: \n",
        "\n"
      ],
      "metadata": {
        "id": "mx7-HI601T-6"
      }
    },
    {
      "cell_type": "code",
      "source": [
        "import re\n",
        "def transform_comments(line_of_code):\n",
        "  result = re.sub(r'(#+)','//', line_of_code)\n",
        "  return result\n",
        "\n",
        "print(transform_comments(\"### Start of program\")) \n",
        "# Should be \"// Start of program\"\n",
        "print(transform_comments(\"  number = 0   ## Initialize the variable\")) \n",
        "# Should be \"  number = 0   // Initialize the variable\"\n",
        "print(transform_comments(\"  number += 1   # Increment the variable\")) \n",
        "# Should be \"  number += 1   // Increment the variable\"\n",
        "print(transform_comments(\"  return(number)\")) \n",
        "# Should be \"  return(number)\""
      ],
      "metadata": {
        "colab": {
          "base_uri": "https://localhost:8080/"
        },
        "id": "ZTtobiDO1TAW",
        "outputId": "71b59638-0a6c-49a6-dcc5-4d8c17f66a4d"
      },
      "execution_count": 7,
      "outputs": [
        {
          "output_type": "stream",
          "name": "stdout",
          "text": [
            "// Start of program\n",
            "  number = 0   // Initialize the variable\n",
            "  number += 1   // Increment the variable\n",
            "  return(number)\n"
          ]
        }
      ]
    },
    {
      "cell_type": "markdown",
      "source": [
        "5. The convert_phone_number function checks for a U.S. phone number format: XXX-XXX-XXXX (3 digits followed by a dash, 3 more digits followed by a dash, and 4 digits), and converts it to a more formal format that looks like this: (XXX) XXX-XXXX. Fill in the regular expression to complete this function.\n",
        "\n"
      ],
      "metadata": {
        "id": "kM4uS_Kq1eHs"
      }
    },
    {
      "cell_type": "code",
      "source": [
        "import re\n",
        "def convert_phone_number(phone):\n",
        "  result = re.sub(r'(\\b\\d{3})-(\\d{3}-\\d{4})\\b',r'(\\1) \\2', phone)\n",
        "  return result\n",
        "\n",
        "print(convert_phone_number(\"My number is 212-345-9999.\")) # My number is (212) 345-9999.\n",
        "print(convert_phone_number(\"Please call 888-555-1234\")) # Please call (888) 555-1234\n",
        "print(convert_phone_number(\"123-123-12345\")) # 123-123-12345\n",
        "print(convert_phone_number(\"Phone number of Buckingham Palace is +44 303 123 7300\")) # Phone number of Buckingham Palace is +44 303 123 7300"
      ],
      "metadata": {
        "colab": {
          "base_uri": "https://localhost:8080/"
        },
        "id": "nYiKS4qk0wQH",
        "outputId": "f98c6dfa-7835-4c3d-ab68-e6fd366bc5c6"
      },
      "execution_count": 8,
      "outputs": [
        {
          "output_type": "stream",
          "name": "stdout",
          "text": [
            "My number is (212) 345-9999.\n",
            "Please call (888) 555-1234\n",
            "123-123-12345\n",
            "Phone number of Buckingham Palace is +44 303 123 7300\n"
          ]
        }
      ]
    }
  ]
}